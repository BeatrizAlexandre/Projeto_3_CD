{
 "cells": [
  {
   "cell_type": "markdown",
   "metadata": {},
   "source": [
    "# MENINAS NA ENGENHARIA"
   ]
  },
  {
   "cell_type": "markdown",
   "metadata": {},
   "source": [
    "### *Beatriz Alexandre e Manuela Castilla*"
   ]
  },
  {
   "cell_type": "markdown",
   "metadata": {},
   "source": [
    "## Objetivo do trabalho"
   ]
  },
  {
   "cell_type": "markdown",
   "metadata": {},
   "source": [
    "Para o nosso trabalho, decidimos pesquisar e estudar sobre meninas na engenharia, nos questionando o porque há tão poucas.. Para isso, não havia um dataset já pronto. Assim, fizemos formulários para meninas na engenharia, tanto no INSPER quanto para outras faculdades, como também meninas que fazem os demais cursos no INSPER (administração e economia).\n",
    "\n",
    "Assim, obtemos suficiente respostas para podermos criar e analisar um dataset, conseguindo então criar um classificador, que, a partir das respostas ao formulário, nos diria se a menina tende a fazer engenharia ou não.\n",
    "\n",
    "Diante disso, fizemos uma pesquisa na qual o fim responderia se diante das características de uma menina que entrasse no INSPER determinaria se esta faria Engenharia ou não. "
   ]
  },
  {
   "cell_type": "markdown",
   "metadata": {},
   "source": [
    "Para isso, organizamos os dados e analisamos estes."
   ]
  },
  {
   "cell_type": "markdown",
   "metadata": {},
   "source": [
    "## Pegando os dados: meninas na engenharia"
   ]
  },
  {
   "cell_type": "code",
   "execution_count": 1,
   "metadata": {},
   "outputs": [],
   "source": [
    "# primeiro importamos tudo que seria necessário para o nosso projeto"
   ]
  },
  {
   "cell_type": "code",
   "execution_count": 2,
   "metadata": {},
   "outputs": [
    {
     "name": "stderr",
     "output_type": "stream",
     "text": [
      "/anaconda3/anaconda3/lib/python3.6/site-packages/statsmodels/compat/pandas.py:56: FutureWarning: The pandas.core.datetools module is deprecated and will be removed in a future version. Please use the pandas.tseries module instead.\n",
      "  from pandas.core import datetools\n"
     ]
    }
   ],
   "source": [
    "import pandas as pd\n",
    "import matplotlib\n",
    "import matplotlib.pyplot as plt\n",
    "import matplotlib as mpl  \n",
    "import seaborn as sns\n",
    "import numpy as np\n",
    "import itertools\n",
    "from scipy import stats\n",
    "from emoji import UNICODE_EMOJI\n",
    "from scipy.stats import norm, probplot, t\n",
    "import statsmodels.api as sm\n",
    "from pandas.core import datetools\n",
    "from sklearn.linear_model import SGDClassifier\n",
    "from sklearn.model_selection import train_test_split\n",
    "from sklearn import datasets\n",
    "from sklearn.linear_model import LogisticRegression\n",
    "from sklearn.metrics import accuracy_score\n",
    "from sklearn.feature_extraction.text import CountVectorizer\n",
    "from sklearn.naive_bayes import MultinomialNB\n",
    "from sklearn.pipeline import Pipeline\n",
    "from mpl_toolkits.mplot3d import Axes3D\n",
    "\n",
    "from sklearn import preprocessing"
   ]
  },
  {
   "cell_type": "markdown",
   "metadata": {},
   "source": [
    "#### Primeiramente, lemos os excels e organizamos estes:"
   ]
  },
  {
   "cell_type": "markdown",
   "metadata": {},
   "source": [
    "Lendo a primeira página do excel cuja é da engenharia do INSPER:"
   ]
  },
  {
   "cell_type": "code",
   "execution_count": 3,
   "metadata": {},
   "outputs": [],
   "source": [
    "eng_insper = pd.read_excel('PESQUISA.xlsx', sheet_name = 0)"
   ]
  },
  {
   "cell_type": "code",
   "execution_count": 4,
   "metadata": {},
   "outputs": [],
   "source": [
    "eng_insper = eng_insper.rename(columns={\"Qual seu nome completo?\": \"NOME\", \"Qual semestre?\": \"SEMESTRE\", \"Idade\": \"IDADE\", \"Qual engenharia?\": \"TIPO_ENG\", \"De onde você veio (cidade/estado)?\": \"ESTADO/CID\", \"Frequentou o Ensino Médio...\":\"TIPO_EM\", \"Qual o nome do seu colégio?\": \"NOME_EM\", 'Insper foi sua 1a opcao?': 'Sua atual faculdade foi sua 1a opção?', 'Como descobriu o Insper?':'Como descobriu sua faculdade?', 'Por que Insper?': 'Por que escolheu sua faculdade?', \"Se SIM na pergunta anterior, quais familiares?\":'Quais familiares?'})\n",
    "\n",
    "\n",
    "semestre=[]\n",
    "\n",
    "for k in eng_insper.SEMESTRE:\n",
    "    if k == \"2º Semestre\":\n",
    "        semestre.append(2)\n",
    "    elif k == \"3º Semestre\":\n",
    "        semestre.append(3)\n",
    "    elif k == \"4º Semstre\":\n",
    "        semestre.append(4)\n",
    "    elif k ==\"5º Semestre\":\n",
    "        semestre.append(5)\n",
    "    elif k ==\"6º semestre\":\n",
    "        semestre.append(6)\n",
    "    elif k == \"7º Semestre\":\n",
    "        semestre.append(7)\n",
    "    else:\n",
    "         semestre.append(8)\n",
    "            \n",
    "eng_insper.SEMESTRE = semestre\n",
    "\n",
    "\n",
    "eng_insper['Se \"Não\", qual?'] = eng_insper['Se \"Não\", qual?'].fillna('Insper')\n",
    "\n",
    "eng_insper['Se SIM na pergunta anterior,  quais familiares?'] = eng_insper['Se SIM na pergunta anterior,  quais familiares?'].fillna('Ninguém')"
   ]
  },
  {
   "cell_type": "code",
   "execution_count": 5,
   "metadata": {},
   "outputs": [],
   "source": [
    "eng_insper['Fez Insper?']='Sim'\n"
   ]
  },
  {
   "cell_type": "code",
   "execution_count": 6,
   "metadata": {},
   "outputs": [],
   "source": [
    "eng_insper_idx=eng_insper.set_index('NOME')"
   ]
  },
  {
   "cell_type": "markdown",
   "metadata": {},
   "source": [
    "lendo o segundo datasheet de todas as faculdades:"
   ]
  },
  {
   "cell_type": "code",
   "execution_count": 7,
   "metadata": {},
   "outputs": [],
   "source": [
    "eng_geral = pd.read_excel('PESQUISA.xlsx', sheet_name = 1)"
   ]
  },
  {
   "cell_type": "code",
   "execution_count": 8,
   "metadata": {},
   "outputs": [],
   "source": [
    "eng_geral = eng_geral.rename(columns={\"Qual seu nome completo?\": \"NOME\", \"Qual semestre?\": \"SEMESTRE\", \"Idade\": \"IDADE\", \"Qual engenharia?\": \"TIPO_ENG\", \"De onde você veio (cidade/estado)?\": \"ESTADO/CID\", \"Frequentou o Ensino Médio...\":\"TIPO_EM\", \"Qual o nome do seu colégio?\": \"NOME_EM\", 'Se SIM na pergunta anterior, quais familiares?':'Quais familiares?'})\n",
    "\n",
    "\n",
    "eng_geral['Se SIM na pergunta anterior,  quais familiares?'] = eng_geral['Se SIM na pergunta anterior,  quais familiares?'].fillna('Ninguém')\n",
    "\n",
    "\n",
    "eng_geral['Se \"Não\", qual?'] = eng_geral['Se \"Não\", qual?'].fillna('A atual')\n",
    "\n",
    "\n",
    "semestre=[]\n",
    "\n",
    "for k in eng_geral.SEMESTRE:\n",
    "    if k == \"2º Semestre\":\n",
    "        semestre.append(2)\n",
    "    elif k == \"3º Semestre\":\n",
    "        semestre.append(3)\n",
    "    elif k == \"4º Semstre\":\n",
    "        semestre.append(4)\n",
    "    elif k ==\"5º Semestre\":\n",
    "        semestre.append(5)\n",
    "    elif k ==\"6º semestre\":\n",
    "        semestre.append(6)\n",
    "    elif k == \"7º Semestre\":\n",
    "        semestre.append(7)\n",
    "    else:\n",
    "         semestre.append(8)\n",
    "            \n",
    "eng_geral.SEMESTRE = semestre"
   ]
  },
  {
   "cell_type": "code",
   "execution_count": 9,
   "metadata": {},
   "outputs": [],
   "source": [
    "eng_geral = eng_geral.drop('Distância da faculdade de casa...', 1)"
   ]
  },
  {
   "cell_type": "code",
   "execution_count": 10,
   "metadata": {},
   "outputs": [],
   "source": [
    "eng_geral['Fez Insper?']='Não'"
   ]
  },
  {
   "cell_type": "code",
   "execution_count": 11,
   "metadata": {},
   "outputs": [],
   "source": [
    "eng_geral_idx=eng_geral.set_index('NOME')"
   ]
  },
  {
   "cell_type": "markdown",
   "metadata": {},
   "source": [
    "Ao baixar os datasheets, juntamos estes:"
   ]
  },
  {
   "cell_type": "code",
   "execution_count": 12,
   "metadata": {},
   "outputs": [
    {
     "data": {
      "text/plain": [
       "120"
      ]
     },
     "execution_count": 12,
     "metadata": {},
     "output_type": "execute_result"
    }
   ],
   "source": [
    "len(pd.concat([eng_insper_idx, eng_geral_idx]))"
   ]
  },
  {
   "cell_type": "code",
   "execution_count": 13,
   "metadata": {},
   "outputs": [
    {
     "data": {
      "text/html": [
       "<div>\n",
       "<style scoped>\n",
       "    .dataframe tbody tr th:only-of-type {\n",
       "        vertical-align: middle;\n",
       "    }\n",
       "\n",
       "    .dataframe tbody tr th {\n",
       "        vertical-align: top;\n",
       "    }\n",
       "\n",
       "    .dataframe thead th {\n",
       "        text-align: right;\n",
       "    }\n",
       "</style>\n",
       "<table border=\"1\" class=\"dataframe\">\n",
       "  <thead>\n",
       "    <tr style=\"text-align: right;\">\n",
       "      <th></th>\n",
       "      <th>IDADE</th>\n",
       "      <th>SEMESTRE</th>\n",
       "      <th>TIPO_ENG</th>\n",
       "      <th>ESTADO/CID</th>\n",
       "      <th>TIPO_EM</th>\n",
       "      <th>NOME_EM</th>\n",
       "      <th>Algum familiar trabalha na área de engenharia?</th>\n",
       "      <th>Se SIM na pergunta anterior,  quais familiares?</th>\n",
       "      <th>Engenharia foi sua 1a escolha?</th>\n",
       "      <th>Por que escolheu Engenharia?</th>\n",
       "      <th>Sua atual faculdade foi sua 1a opção?</th>\n",
       "      <th>Se \"Não\", qual?</th>\n",
       "      <th>Como descobriu sua faculdade?</th>\n",
       "      <th>Por que escolheu sua faculdade?</th>\n",
       "      <th>Ter poucas meninas na engenharia te desmotiva a ingressar na engenharia?</th>\n",
       "      <th>Quanto você espera ganhar no seu início de sua carreira?</th>\n",
       "      <th>Com quantos anos você espera se aposentar?</th>\n",
       "      <th>Você pretende ter filhos?</th>\n",
       "      <th>Fez Insper?</th>\n",
       "    </tr>\n",
       "    <tr>\n",
       "      <th>NOME</th>\n",
       "      <th></th>\n",
       "      <th></th>\n",
       "      <th></th>\n",
       "      <th></th>\n",
       "      <th></th>\n",
       "      <th></th>\n",
       "      <th></th>\n",
       "      <th></th>\n",
       "      <th></th>\n",
       "      <th></th>\n",
       "      <th></th>\n",
       "      <th></th>\n",
       "      <th></th>\n",
       "      <th></th>\n",
       "      <th></th>\n",
       "      <th></th>\n",
       "      <th></th>\n",
       "      <th></th>\n",
       "      <th></th>\n",
       "    </tr>\n",
       "  </thead>\n",
       "  <tbody>\n",
       "    <tr>\n",
       "      <th>Vitória de Almeida Oliveira</th>\n",
       "      <td>Entre 19 a 21 anos</td>\n",
       "      <td>2</td>\n",
       "      <td>Engenharia Mecatrônica</td>\n",
       "      <td>Osasco SP</td>\n",
       "      <td>Escola Privada</td>\n",
       "      <td>Coc Sapiens</td>\n",
       "      <td>0</td>\n",
       "      <td>Ninguém</td>\n",
       "      <td>1</td>\n",
       "      <td>Gosta de Exatas</td>\n",
       "      <td>1</td>\n",
       "      <td>Insper</td>\n",
       "      <td>Por amigos</td>\n",
       "      <td>Infraestrutura, Reconhecimento no mercado devi...</td>\n",
       "      <td>1</td>\n",
       "      <td>R$ 15000 - R$ 20000</td>\n",
       "      <td>Entre 62 a 65 anos</td>\n",
       "      <td>0</td>\n",
       "      <td>Sim</td>\n",
       "    </tr>\n",
       "    <tr>\n",
       "      <th>manuela castilla</th>\n",
       "      <td>Entre 16 a 18 anos</td>\n",
       "      <td>2</td>\n",
       "      <td>Engenharia Mecatrônica</td>\n",
       "      <td>São Paulo SP</td>\n",
       "      <td>Escola Privada</td>\n",
       "      <td>Escola da vila</td>\n",
       "      <td>1</td>\n",
       "      <td>Pai e tio</td>\n",
       "      <td>0</td>\n",
       "      <td>Gosta de Exatas, Desde de criança brinca com e...</td>\n",
       "      <td>1</td>\n",
       "      <td>Insper</td>\n",
       "      <td>Por amigos, Por família</td>\n",
       "      <td>Infraestrutura, Ensino diferenciado</td>\n",
       "      <td>0</td>\n",
       "      <td>R$ 5000 - R$ 10000</td>\n",
       "      <td>Entre 62 a 65 anos</td>\n",
       "      <td>1</td>\n",
       "      <td>Sim</td>\n",
       "    </tr>\n",
       "  </tbody>\n",
       "</table>\n",
       "</div>"
      ],
      "text/plain": [
       "                                          IDADE  SEMESTRE  \\\n",
       "NOME                                                        \n",
       "Vitória de Almeida Oliveira  Entre 19 a 21 anos         2   \n",
       "manuela castilla             Entre 16 a 18 anos         2   \n",
       "\n",
       "                                           TIPO_ENG    ESTADO/CID  \\\n",
       "NOME                                                                \n",
       "Vitória de Almeida Oliveira  Engenharia Mecatrônica     Osasco SP   \n",
       "manuela castilla             Engenharia Mecatrônica  São Paulo SP   \n",
       "\n",
       "                                    TIPO_EM         NOME_EM  \\\n",
       "NOME                                                          \n",
       "Vitória de Almeida Oliveira  Escola Privada     Coc Sapiens   \n",
       "manuela castilla             Escola Privada  Escola da vila   \n",
       "\n",
       "                             Algum familiar trabalha na área de engenharia?  \\\n",
       "NOME                                                                          \n",
       "Vitória de Almeida Oliveira                                               0   \n",
       "manuela castilla                                                          1   \n",
       "\n",
       "                            Se SIM na pergunta anterior,  quais familiares?  \\\n",
       "NOME                                                                          \n",
       "Vitória de Almeida Oliveira                                         Ninguém   \n",
       "manuela castilla                                                  Pai e tio   \n",
       "\n",
       "                             Engenharia foi sua 1a escolha?  \\\n",
       "NOME                                                          \n",
       "Vitória de Almeida Oliveira                               1   \n",
       "manuela castilla                                          0   \n",
       "\n",
       "                                                  Por que escolheu Engenharia?  \\\n",
       "NOME                                                                             \n",
       "Vitória de Almeida Oliveira                                    Gosta de Exatas   \n",
       "manuela castilla             Gosta de Exatas, Desde de criança brinca com e...   \n",
       "\n",
       "                            Sua atual faculdade foi sua 1a opção?  \\\n",
       "NOME                                                                \n",
       "Vitória de Almeida Oliveira                                     1   \n",
       "manuela castilla                                                1   \n",
       "\n",
       "                            Se \"Não\", qual? Como descobriu sua faculdade?  \\\n",
       "NOME                                                                        \n",
       "Vitória de Almeida Oliveira          Insper                    Por amigos   \n",
       "manuela castilla                     Insper       Por amigos, Por família   \n",
       "\n",
       "                                               Por que escolheu sua faculdade?  \\\n",
       "NOME                                                                             \n",
       "Vitória de Almeida Oliveira  Infraestrutura, Reconhecimento no mercado devi...   \n",
       "manuela castilla                           Infraestrutura, Ensino diferenciado   \n",
       "\n",
       "                             Ter poucas meninas na engenharia te desmotiva a ingressar na engenharia?  \\\n",
       "NOME                                                                                                    \n",
       "Vitória de Almeida Oliveira                                                  1                          \n",
       "manuela castilla                                                             0                          \n",
       "\n",
       "                            Quanto você espera ganhar no seu início de sua carreira?  \\\n",
       "NOME                                                                                   \n",
       "Vitória de Almeida Oliveira                                R$ 15000 - R$ 20000         \n",
       "manuela castilla                                            R$ 5000 - R$ 10000         \n",
       "\n",
       "                            Com quantos anos você espera se aposentar?  \\\n",
       "NOME                                                                     \n",
       "Vitória de Almeida Oliveira                         Entre 62 a 65 anos   \n",
       "manuela castilla                                    Entre 62 a 65 anos   \n",
       "\n",
       "                             Você pretende ter filhos? Fez Insper?  \n",
       "NOME                                                                \n",
       "Vitória de Almeida Oliveira                          0         Sim  \n",
       "manuela castilla                                     1         Sim  "
      ]
     },
     "execution_count": 13,
     "metadata": {},
     "output_type": "execute_result"
    }
   ],
   "source": [
    "eng = pd.concat([eng_insper_idx, eng_geral_idx])\n",
    "eng.head(2)"
   ]
  },
  {
   "cell_type": "markdown",
   "metadata": {},
   "source": [
    "Para poder fazer nossa análise, fora precisa, simplificar as respostas, para consgeuir fazer a análise sem algum erro"
   ]
  },
  {
   "cell_type": "code",
   "execution_count": 14,
   "metadata": {},
   "outputs": [],
   "source": [
    "sp = len(eng[eng['ESTADO/CID'].str.contains('SP|Sp', case=False)])\n",
    "sc = len(eng[eng['ESTADO/CID'].str.contains('SC', case=False)])\n",
    "mg =len(eng[eng['ESTADO/CID'].str.contains('MG', case=False)])\n",
    "to = len(eng[eng['ESTADO/CID'].str.contains('TO', case=False)])\n",
    "ba = len(eng[eng['ESTADO/CID'].str.contains('BA', case=False)])\n",
    "rj = len(eng[eng['ESTADO/CID'].str.contains('RJ', case=False)])\n",
    "pr = len(eng[eng['ESTADO/CID'].str.contains('PR', case=False)])\n",
    "ms = len(eng[eng['ESTADO/CID'].str.contains('MS', case=False)])\n",
    "es = len(eng[eng['ESTADO/CID'].str.contains('ES', case=False)])\n",
    "go = len(eng[eng['ESTADO/CID'].str.contains('GO', case=False)])"
   ]
  },
  {
   "cell_type": "code",
   "execution_count": 15,
   "metadata": {},
   "outputs": [
    {
     "name": "stdout",
     "output_type": "stream",
     "text": [
      "  quem  estado\n",
      "0   SP     104\n",
      "1   SC       3\n",
      "2   MG       6\n",
      "3   TO       5\n",
      "4   BA       9\n",
      "5   RJ       2\n",
      "6   PR       2\n",
      "7   MS       1\n",
      "8   ES       3\n",
      "9   GO       2\n"
     ]
    },
    {
     "name": "stderr",
     "output_type": "stream",
     "text": [
      "/anaconda3/anaconda3/lib/python3.6/site-packages/ipykernel_launcher.py:29: UserWarning: Pandas doesn't allow columns to be created via a new attribute name - see https://pandas.pydata.org/pandas-docs/stable/indexing.html#attribute-access\n"
     ]
    }
   ],
   "source": [
    "torta_es = []\n",
    "torta_es.append(sp)\n",
    "torta_es.append(sc)\n",
    "torta_es.append(mg)\n",
    "torta_es.append(to)\n",
    "torta_es.append(ba)\n",
    "torta_es.append(rj)\n",
    "torta_es.append(pr)\n",
    "torta_es.append(ms)\n",
    "torta_es.append(es)\n",
    "torta_es.append(go)\n",
    "\n",
    "nomes_es =[]\n",
    "nomes_es.append(\"SP\")\n",
    "nomes_es.append(\"SC\")\n",
    "nomes_es.append(\"MG\")\n",
    "nomes_es.append(\"TO\")\n",
    "nomes_es.append(\"BA\")\n",
    "nomes_es.append(\"RJ\")\n",
    "nomes_es.append(\"PR\")\n",
    "nomes_es.append(\"MS\")\n",
    "nomes_es.append(\"ES\")\n",
    "nomes_es.append(\"GO\")\n",
    "\n",
    "tortas_es = pd.DataFrame()\n",
    "tortas_es[\"quem\"]= nomes_es\n",
    "tortas_es[\"estado\"] = torta_es\n",
    "\n",
    "tortas_es.idx = tortas_es.set_index(\"quem\")\n",
    "tortas_es.idx\n",
    "\n",
    "print(tortas_es)"
   ]
  },
  {
   "cell_type": "code",
   "execution_count": 16,
   "metadata": {},
   "outputs": [],
   "source": [
    "mae = 0\n",
    "maeL =[]\n",
    "\n",
    "avos = 0\n",
    "avosL =[]\n",
    "\n",
    "pai = 0\n",
    "paiL =[]\n",
    "\n",
    "tio = 0\n",
    "tioL=[]\n",
    "\n",
    "irmaos =0\n",
    "irmaosL =[]\n",
    "\n",
    "ninguem = 0\n",
    "ninguemL =[]\n",
    "\n",
    "padrasto = 0\n",
    "padrastoL=[]\n",
    "\n",
    "primos = 0\n",
    "primosL=[]\n",
    "\n",
    "for k in eng['Se SIM na pergunta anterior,  quais familiares?']:\n",
    "    split_v = k.split(\",\")\n",
    "    for i in split_v:\n",
    "        split_e = i.split(\" e\")\n",
    "    \n",
    "    for k in split_e:\n",
    "        if k == \"pai\" or k ==\"Pai\" or k == \"Meu pai\" or k ==\"pai e mãe \":\n",
    "            pai+=1\n",
    "            paiL.append(\"pai\")\n",
    "        elif k == \" mãe \" or k == \"Mãe\" or k == \"pai e mãe \":\n",
    "            mae+=1\n",
    "            maeL.append(\"mae\")\n",
    "        elif k ==\"irmã \" or k ==\" meu irmão\" or k ==\" irmão\" :\n",
    "            irmaos+=1\n",
    "            irmaosL.append(\"irmao\")\n",
    "        elif k ==\" tio.\" or k ==\" tios\" or k ==\"Tios\" or k ==\" tio\":\n",
    "            tio+=1\n",
    "            tioL.append(\"tio\")\n",
    "        elif \"padrasto\" in k.lower():\n",
    "            padrasto+=1\n",
    "            padrastoL.append(\"padrasto\")\n",
    "        elif \"ninguém\" in k.lower():\n",
    "            ninguem+=1\n",
    "            ninguemL.append(\"ninguem\")\n",
    "        elif \"avô\" in k.lower() or k==\" avô\":\n",
    "            avos+=1\n",
    "            avosL.append(\"avos\")\n",
    "        elif k ==\" primos\" or k =='Primo' or k==' primas' or k==\" primo\" or k==' primos ' or k==\"Dois primos\":\n",
    "            primos +=1\n",
    "            primosL.append(\"primos\")\n",
    "    \n"
   ]
  },
  {
   "cell_type": "markdown",
   "metadata": {},
   "source": [
    "## Colentando os dados: meninas do insper"
   ]
  },
  {
   "cell_type": "markdown",
   "metadata": {},
   "source": [
    "#### lendo o excel das meninas de engenharia do INSPER"
   ]
  },
  {
   "cell_type": "code",
   "execution_count": 17,
   "metadata": {},
   "outputs": [],
   "source": [
    "# leitura do excel \n",
    "eng_insper_2 = pd.read_excel('PESQUISA.xlsx', sheet_name = 0)\n"
   ]
  },
  {
   "cell_type": "code",
   "execution_count": 18,
   "metadata": {},
   "outputs": [],
   "source": [
    "#renomeando colunas:\n",
    "eng_insper_2 = eng_insper_2.rename(columns={\"Qual seu nome completo?\": \"NOME\", \"Qual semestre?\": \"SEMESTRE\", \"Idade\": \"IDADE\", \"Qual engenharia?\": \"Curso\", \"De onde você veio (cidade/estado)?\": \"ESTADO/CID\", \"Frequentou o Ensino Médio...\":\"TIPO_EM\", \"Qual o nome do seu colégio?\": \"NOME_EM\",  'Algum familiar trabalha na área de engenharia?':'Familiar na área?',  'Se SIM na pergunta anterior,  quais familiares?':'Quais familiares?', 'Engenharia foi sua 1a escolha?':'Seu curso foi sua 1a escolha?','Por que escolheu Engenharia?':'Por que escolheu este curso?'})\n",
    "\n",
    "#limpeza e modificações\n",
    "semestre=[]\n",
    "\n",
    "for k in eng_insper_2.SEMESTRE:\n",
    "    if k == \"2º Semestre\":\n",
    "        semestre.append(2)\n",
    "    elif k == \"3º Semestre\":\n",
    "        semestre.append(3)\n",
    "    elif k == \"4º Semstre\":\n",
    "        semestre.append(4)\n",
    "    elif k ==\"5º Semestre\":\n",
    "        semestre.append(5)\n",
    "    elif k ==\"6º semestre\":\n",
    "        semestre.append(6)\n",
    "    elif k == \"7º Semestre\":\n",
    "        semestre.append(7)\n",
    "    else:\n",
    "         semestre.append(8)\n",
    "            \n",
    "eng_insper_2.SEMESTRE = semestre\n",
    "\n",
    "eng_insper_2['Se \"Não\", qual?'] = eng_insper_2['Se \"Não\", qual?'].fillna('Insper')\n",
    "\n",
    "eng_insper_2['Faz Engenharia?']= '1'\n",
    "\n",
    "eng_insper_2['Quais familiares?'] = eng_insper_2['Quais familiares?'].fillna('Ninguém')\n"
   ]
  },
  {
   "cell_type": "code",
   "execution_count": 19,
   "metadata": {},
   "outputs": [],
   "source": [
    "eng_insper_2_idx=eng_insper_2.set_index('NOME')"
   ]
  },
  {
   "cell_type": "markdown",
   "metadata": {},
   "source": [
    "#### Lendo o excel das meninas do INSPER"
   ]
  },
  {
   "cell_type": "code",
   "execution_count": 20,
   "metadata": {},
   "outputs": [],
   "source": [
    "insper = pd.read_excel('PESQUISA.xlsx', sheet_name = 3)"
   ]
  },
  {
   "cell_type": "code",
   "execution_count": 21,
   "metadata": {},
   "outputs": [],
   "source": [
    "insper = insper.drop('Qual é a distância da sua casa para a faculdade', 1)"
   ]
  },
  {
   "cell_type": "code",
   "execution_count": 22,
   "metadata": {},
   "outputs": [],
   "source": [
    "insper['Se \"Não\", qual?'] = insper['Se \"Não\", qual?'].fillna('Insper')\n",
    "insper = insper.rename(columns={\"Qual seu nome completo?\": \"NOME\", \"Qual semestre?\": \"SEMESTRE\", \"Idade\": \"IDADE\", \"Qual curso?\": \"Curso\", \"De onde você veio (cidade/estado)?\": \"ESTADO/CID\", \"Frequentou o Ensino Médio...\":\"TIPO_EM\", \"Qual o nome do seu colégio?\": \"NOME_EM\", 'Algum familiar trabalha na área de adm e/ou econo?': 'Familiar na área?', 'Se SIM na pergunta anterior, quais familiares?':'Quais familiares?', 'Adm e/ou Econo foi sua primeira escolha?':'Seu curso foi sua 1a escolha?','Por que escolheu Administração/ Economia?': 'Por que escolheu este curso?'})\n",
    "semestre=[]\n",
    "\n",
    "for k in insper.SEMESTRE:\n",
    "    if k == \"2º Semestre\":\n",
    "        semestre.append(2)\n",
    "    elif k == \"3º Semestre\":\n",
    "        semestre.append(3)\n",
    "    elif k == \"4º Semstre\":\n",
    "        semestre.append(4)\n",
    "    elif k ==\"5º Semestre\":\n",
    "        semestre.append(5)\n",
    "    elif k ==\"6º semestre\":\n",
    "        semestre.append(6)\n",
    "    elif k == \"7º Semestre\":\n",
    "        semestre.append(7)\n",
    "    else:\n",
    "         semestre.append(8)\n",
    "            \n",
    "insper.SEMESTRE = semestre"
   ]
  },
  {
   "cell_type": "code",
   "execution_count": 23,
   "metadata": {},
   "outputs": [],
   "source": [
    "insper_idx=insper.set_index('NOME')"
   ]
  },
  {
   "cell_type": "code",
   "execution_count": 24,
   "metadata": {},
   "outputs": [],
   "source": [
    "insper_idx['Faz Engenharia?']='0'\n",
    "#insper_idx"
   ]
  },
  {
   "cell_type": "markdown",
   "metadata": {},
   "source": [
    "#### Juntando os dataframes"
   ]
  },
  {
   "cell_type": "code",
   "execution_count": 25,
   "metadata": {},
   "outputs": [
    {
     "data": {
      "text/html": [
       "<div>\n",
       "<style scoped>\n",
       "    .dataframe tbody tr th:only-of-type {\n",
       "        vertical-align: middle;\n",
       "    }\n",
       "\n",
       "    .dataframe tbody tr th {\n",
       "        vertical-align: top;\n",
       "    }\n",
       "\n",
       "    .dataframe thead th {\n",
       "        text-align: right;\n",
       "    }\n",
       "</style>\n",
       "<table border=\"1\" class=\"dataframe\">\n",
       "  <thead>\n",
       "    <tr style=\"text-align: right;\">\n",
       "      <th></th>\n",
       "      <th>Algum familiar na engenharia?</th>\n",
       "      <th>Com quantos anos você espera se aposentar?</th>\n",
       "      <th>Como descobriu o Insper?</th>\n",
       "      <th>Curso</th>\n",
       "      <th>ESTADO/CID</th>\n",
       "      <th>Familiar na área?</th>\n",
       "      <th>Faz Engenharia?</th>\n",
       "      <th>IDADE</th>\n",
       "      <th>Insper foi sua 1a opcao?</th>\n",
       "      <th>NOME</th>\n",
       "      <th>...</th>\n",
       "      <th>Quais familiares?</th>\n",
       "      <th>Quanto você espera ganhar no seu início de sua carreira?</th>\n",
       "      <th>SEMESTRE</th>\n",
       "      <th>Se \"Não\", qual?</th>\n",
       "      <th>Se SIM na pergunta anterior, quais Familiares?</th>\n",
       "      <th>Seu curso foi sua 1a escolha?</th>\n",
       "      <th>TIPO_EM</th>\n",
       "      <th>Ter poucas meninas na engenharia te desmotiva a ingressar na engenharia?</th>\n",
       "      <th>Ter poucas meninas no Insper te desmotiva a ingressar na instituição?</th>\n",
       "      <th>Você pretende ter filhos?</th>\n",
       "    </tr>\n",
       "  </thead>\n",
       "  <tbody>\n",
       "    <tr>\n",
       "      <th>0</th>\n",
       "      <td>NaN</td>\n",
       "      <td>Entre 62 a 65 anos</td>\n",
       "      <td>Por amigos</td>\n",
       "      <td>Engenharia Mecatrônica</td>\n",
       "      <td>Osasco SP</td>\n",
       "      <td>0</td>\n",
       "      <td>1</td>\n",
       "      <td>Entre 19 a 21 anos</td>\n",
       "      <td>1</td>\n",
       "      <td>Vitória de Almeida Oliveira</td>\n",
       "      <td>...</td>\n",
       "      <td>Ninguém</td>\n",
       "      <td>R$ 15000 - R$ 20000</td>\n",
       "      <td>2</td>\n",
       "      <td>Insper</td>\n",
       "      <td>NaN</td>\n",
       "      <td>1</td>\n",
       "      <td>Escola Privada</td>\n",
       "      <td>1.0</td>\n",
       "      <td>NaN</td>\n",
       "      <td>0</td>\n",
       "    </tr>\n",
       "  </tbody>\n",
       "</table>\n",
       "<p>1 rows × 23 columns</p>\n",
       "</div>"
      ],
      "text/plain": [
       "  Algum familiar na engenharia? Com quantos anos você espera se aposentar?  \\\n",
       "0                           NaN                         Entre 62 a 65 anos   \n",
       "\n",
       "  Como descobriu o Insper?                   Curso ESTADO/CID  \\\n",
       "0               Por amigos  Engenharia Mecatrônica  Osasco SP   \n",
       "\n",
       "   Familiar na área? Faz Engenharia?               IDADE  \\\n",
       "0                  0               1  Entre 19 a 21 anos   \n",
       "\n",
       "   Insper foi sua 1a opcao?                         NOME  \\\n",
       "0                         1  Vitória de Almeida Oliveira   \n",
       "\n",
       "             ...            Quais familiares?  \\\n",
       "0            ...                      Ninguém   \n",
       "\n",
       "  Quanto você espera ganhar no seu início de sua carreira? SEMESTRE  \\\n",
       "0                                R$ 15000 - R$ 20000              2   \n",
       "\n",
       "  Se \"Não\", qual? Se SIM na pergunta anterior, quais Familiares?  \\\n",
       "0          Insper                                            NaN   \n",
       "\n",
       "   Seu curso foi sua 1a escolha?         TIPO_EM  \\\n",
       "0                              1  Escola Privada   \n",
       "\n",
       "  Ter poucas meninas na engenharia te desmotiva a ingressar na engenharia?  \\\n",
       "0                                                1.0                         \n",
       "\n",
       "   Ter poucas meninas no Insper te desmotiva a ingressar na instituição?  \\\n",
       "0                                                NaN                       \n",
       "\n",
       "  Você pretende ter filhos?  \n",
       "0                         0  \n",
       "\n",
       "[1 rows x 23 columns]"
      ]
     },
     "execution_count": 25,
     "metadata": {},
     "output_type": "execute_result"
    }
   ],
   "source": [
    "Insper=pd.concat([eng_insper_2, insper_idx])\n",
    "Insper.head(1)"
   ]
  },
  {
   "cell_type": "code",
   "execution_count": 26,
   "metadata": {},
   "outputs": [],
   "source": [
    "pai = len(eng[eng['Se SIM na pergunta anterior,  quais familiares?'].str.contains('Pai', case=False)])\n",
    "tio = len((eng[eng['Se SIM na pergunta anterior,  quais familiares?'].str.contains('tios', case=False)]))\n",
    "mae = len(eng[eng['Se SIM na pergunta anterior,  quais familiares?'].str.contains('mãe|mae', case=False)])\n",
    "irmaos = len(eng[eng['Se SIM na pergunta anterior,  quais familiares?'].str.contains('irmã|irmão|irma|irmao', case=False)])\n",
    "padrasto = len(eng[eng['Se SIM na pergunta anterior,  quais familiares?'].str.contains('padrasto', case=False)])\n",
    "ninguem = len(eng[eng['Se SIM na pergunta anterior,  quais familiares?'].str.contains('ninguém', case=False)])\n",
    "avos = len(eng[eng['Se SIM na pergunta anterior,  quais familiares?'].str.contains('avô|avo', case=False)])\n",
    "primos = len(eng[eng['Se SIM na pergunta anterior,  quais familiares?'].str.contains('primos|prima|primo', case=False)])\n",
    "soma = primos+ avos+ ninguem + padrasto+ irmaos+ mae+ tio+pai"
   ]
  },
  {
   "cell_type": "code",
   "execution_count": 27,
   "metadata": {},
   "outputs": [],
   "source": [
    "pie = []\n",
    "pie.append(mae)\n",
    "pie.append(pai)\n",
    "pie.append(tio)\n",
    "pie.append(irmaos)\n",
    "pie.append(padrasto)\n",
    "pie.append(ninguem)\n",
    "pie.append(avos)\n",
    "pie.append(primos)\n",
    "\n",
    "nomes =[]\n",
    "nomes.append(\"mae\")\n",
    "nomes.append(\"pai\")\n",
    "nomes.append(\"tio\")\n",
    "nomes.append(\"irmaos\")\n",
    "nomes.append(\"padrasto\")\n",
    "nomes.append(\"ninguem\")\n",
    "nomes.append(\"avos\")\n",
    "nomes.append(\"primos\")\n",
    "\n",
    "pies = pd.DataFrame()\n",
    "pies[\"quem\"]= nomes\n",
    "pies[\"porcentagem de familia\"] = pie\n",
    "\n",
    "pies_idx = pies.set_index(\"quem\")"
   ]
  },
  {
   "cell_type": "markdown",
   "metadata": {},
   "source": [
    "##### meninas apenas do insper que fazem engenharia"
   ]
  },
  {
   "cell_type": "code",
   "execution_count": 28,
   "metadata": {},
   "outputs": [],
   "source": [
    "minas = pd.read_excel('PESQUISA.xlsx', sheet_name = 4)"
   ]
  },
  {
   "cell_type": "code",
   "execution_count": 29,
   "metadata": {},
   "outputs": [],
   "source": [
    "minas_idx = minas.set_index(\"ENGENHARIAS\")\n",
    "minas_idx[\"_2019\"] = 0\n"
   ]
  },
  {
   "cell_type": "markdown",
   "metadata": {},
   "source": [
    "# ANÁLISES EXPLORATÓRIAS"
   ]
  },
  {
   "cell_type": "markdown",
   "metadata": {},
   "source": [
    "## Analisamos primeiro as mulheres que fazem engenharia"
   ]
  },
  {
   "cell_type": "markdown",
   "metadata": {},
   "source": [
    "Para termos uma ideia de se houve uma diferença de escolha de curso ao longo dos anos, fizemos três gráficos de torta, vendo como a escolha do curso variou:"
   ]
  },
  {
   "cell_type": "code",
   "execution_count": 30,
   "metadata": {},
   "outputs": [
    {
     "data": {
      "image/png": "[encoded data removed]",
      "text/plain": [
       "<Figure size 432x288 with 1 Axes>"
      ]
     },
     "metadata": {},
     "output_type": "display_data"
    }
   ],
   "source": [
    "pie2015 = minas_idx[\"_2015\"]\n",
    "pie2015.plot(kind=\"pie\", autopct=\"%.2f\", legend=False);\n",
    "plt.title(\"porcentagem de meninas na engenhariem 2015\");"
   ]
  },
  {
   "cell_type": "code",
   "execution_count": 31,
   "metadata": {},
   "outputs": [
    {
     "data": {
      "image/png": "[encoded data removed]",
      "text/plain": [
       "<Figure size 432x288 with 1 Axes>"
      ]
     },
     "metadata": {},
     "output_type": "display_data"
    }
   ],
   "source": [
    "pie2016 = minas_idx[\"_2016\"]\n",
    "pie2016.plot(kind=\"pie\", autopct=\"%.2f\", legend=False)\n",
    "plt.title(\"porcentagem de meninas na engenhariem 2016\");"
   ]
  },
  {
   "cell_type": "code",
   "execution_count": 32,
   "metadata": {},
   "outputs": [
    {
     "data": {
      "image/png": "[encoded data removed]",
      "text/plain": [
       "<Figure size 432x288 with 1 Axes>"
      ]
     },
     "metadata": {},
     "output_type": "display_data"
    }
   ],
   "source": [
    "pie2017 = minas_idx[\"_2017\"]\n",
    "pie2017.plot(kind=\"pie\", autopct=\"%.2f\", legend=False)\n",
    "plt.title(\"porcentagem de meninas na engenhariem 2017\");"
   ]
  },
  {
   "cell_type": "code",
   "execution_count": 33,
   "metadata": {},
   "outputs": [
    {
     "data": {
      "image/png": "[encoded data removed]",
      "text/plain": [
       "<Figure size 432x288 with 1 Axes>"
      ]
     },
     "metadata": {},
     "output_type": "display_data"
    }
   ],
   "source": [
    "pie2018 = minas_idx[\"_2018\"]\n",
    "pie2018.plot(kind=\"pie\", autopct=\"%.2f\", legend=False)\n",
    "plt.title(\"porcentagem de meninas na engenhariem 2018\");"
   ]
  },
  {
   "cell_type": "markdown",
   "metadata": {},
   "source": [
    "Diante destes gráficos, foi possível observar o quanto variou a escolha do curso entre as meninas: sendo inicialmente a escolha favorita sendo mecânica. Mas ao longo dos anos, o curso mecânica foi dimibuindo enquanto o curso de computação e mecatrônica equilibrando entre si."
   ]
  },
  {
   "cell_type": "code",
   "execution_count": 34,
   "metadata": {},
   "outputs": [
    {
     "data": {
      "image/png": "[encoded data removed]",
      "text/plain": [
       "<Figure size 432x288 with 1 Axes>"
      ]
     },
     "metadata": {},
     "output_type": "display_data"
    }
   ],
   "source": [
    "anos = [2015, 2016, 2017, 2018]\n",
    "mecat = [2, 1, 8, 6]\n",
    "comp = [2, 5, 4, 7]\n",
    "mec = [4,1,3,4]\n",
    "\n",
    "plt.plot(anos, mecat,\"g\", label=\"mecatrônica\");\n",
    "plt.plot(anos, comp, \"r\", label=\"mecânica\");\n",
    "plt.plot(anos, mec, \"y\", label=\"computação\");\n",
    "plt.grid(True)\n",
    "plt.title(\"Quantidade de meninas ao longo dos anos na engenharia\")\n",
    "plt.legend();"
   ]
  },
  {
   "cell_type": "code",
   "execution_count": 35,
   "metadata": {},
   "outputs": [
    {
     "data": {
      "image/png": "[encoded data removed]",
      "text/plain": [
       "<Figure size 432x288 with 1 Axes>"
      ]
     },
     "metadata": {},
     "output_type": "display_data"
    }
   ],
   "source": [
    "y = [8, 7, 15, 17]\n",
    "x = [2015, 2016, 2017, 2018]\n",
    "plt.plot(x, y, \"p\");\n",
    "plt.ylabel(\"quantidade de meninas\")\n",
    "plt.grid(True)\n",
    "plt.xlabel(\"tempo (anos)\")\n",
    "plt.title(\"Número de meninas na engenharia no Insper ao longo dos anos\");"
   ]
  },
  {
   "cell_type": "markdown",
   "metadata": {},
   "source": [
    "#### Primeiro vimos a distribuição da escolaridade de cada menina:"
   ]
  },
  {
   "cell_type": "code",
   "execution_count": 36,
   "metadata": {},
   "outputs": [
    {
     "data": {
      "image/png": "[encoded data removed]",
      "text/plain": [
       "<Figure size 432x288 with 1 Axes>"
      ]
     },
     "metadata": {},
     "output_type": "display_data"
    }
   ],
   "source": [
    "eng.TIPO_EM.value_counts().plot.bar()\n",
    "plt.title(\"Tipo de EM\");"
   ]
  },
  {
   "cell_type": "markdown",
   "metadata": {},
   "source": [
    "#### Se existia algum familiar que estuda/estudou engenharia"
   ]
  },
  {
   "cell_type": "code",
   "execution_count": 37,
   "metadata": {},
   "outputs": [
    {
     "data": {
      "image/png": "[encoded data removed]",
      "text/plain": [
       "<Figure size 432x288 with 1 Axes>"
      ]
     },
     "metadata": {},
     "output_type": "display_data"
    }
   ],
   "source": [
    "eng[\"Algum familiar trabalha na área de engenharia?\"].value_counts().plot.bar()\n",
    "plt.title(\"se tem familiares na engenharia\");"
   ]
  },
  {
   "cell_type": "markdown",
   "metadata": {},
   "source": [
    "#### Se houvesse um familiar, quem que seria:"
   ]
  },
  {
   "cell_type": "code",
   "execution_count": 38,
   "metadata": {},
   "outputs": [
    {
     "data": {
      "text/plain": [
       "Text(0.5,1,'Familiares na Engenharia')"
      ]
     },
     "execution_count": 38,
     "metadata": {},
     "output_type": "execute_result"
    },
    {
     "data": {
      "image/png": "[encoded data removed]",
      "text/plain": [
       "<Figure size 432x288 with 1 Axes>"
      ]
     },
     "metadata": {},
     "output_type": "display_data"
    }
   ],
   "source": [
    "familia =[]\n",
    "familia.append(maeL)\n",
    "familia.append(paiL)\n",
    "familia.append(irmaosL)\n",
    "familia.append(tioL)\n",
    "familia.append(padrastoL)\n",
    "familia.append(ninguemL)\n",
    "familia.append(avosL)\n",
    "familia.append(primosL)\n",
    "plt.hist(familia);\n",
    "plt.title('Familiares na Engenharia')"
   ]
  },
  {
   "cell_type": "markdown",
   "metadata": {},
   "source": [
    "#### Analisamos também a variação de que engenharia cada uma fazia"
   ]
  },
  {
   "cell_type": "code",
   "execution_count": 39,
   "metadata": {},
   "outputs": [
    {
     "data": {
      "image/png": "[encoded data removed]",
      "text/plain": [
       "<Figure size 432x288 with 1 Axes>"
      ]
     },
     "metadata": {},
     "output_type": "display_data"
    }
   ],
   "source": [
    "eng[\"TIPO_ENG\"].value_counts().plot.bar()\n",
    "plt.title(\"Qual tipo de engenharia\");"
   ]
  },
  {
   "cell_type": "markdown",
   "metadata": {},
   "source": [
    "#### Analisamos  de onde cada menina que faz engenharia veio"
   ]
  },
  {
   "cell_type": "code",
   "execution_count": 40,
   "metadata": {},
   "outputs": [
    {
     "data": {
      "image/png": "[encoded data removed]",
      "text/plain": [
       "<Figure size 432x288 with 1 Axes>"
      ]
     },
     "metadata": {},
     "output_type": "display_data"
    }
   ],
   "source": [
    "estados = tortas_es.idx[\"estado\"]\n",
    "estados.plot(kind=\"pie\", autopct=\"%.2f\", legend=False)\n",
    "plt.title(\"de onde cada uma venho\");"
   ]
  },
  {
   "cell_type": "markdown",
   "metadata": {},
   "source": [
    "A partir deste gráfico de torta vemos que a maioria das meninas são originalmente de São Paulo, com em segundo lugar Bahia."
   ]
  },
  {
   "cell_type": "markdown",
   "metadata": {},
   "source": [
    "## Análise das meninas do INSPER"
   ]
  },
  {
   "cell_type": "markdown",
   "metadata": {},
   "source": [
    "#### Primeiramente vimos a distribuição do curso entre as meninas"
   ]
  },
  {
   "cell_type": "code",
   "execution_count": 41,
   "metadata": {},
   "outputs": [
    {
     "data": {
      "image/png": "[encoded data removed]",
      "text/plain": [
       "<Figure size 432x288 with 1 Axes>"
      ]
     },
     "metadata": {},
     "output_type": "display_data"
    }
   ],
   "source": [
    "Insper['Curso'].value_counts().plot.bar()\n",
    "plt.title(\"Qual tipo de curso?\");"
   ]
  },
  {
   "cell_type": "markdown",
   "metadata": {},
   "source": [
    "Ao ver a distribuição, vimos se havia algum familiar que fazia engenharia e se sim, quem?"
   ]
  },
  {
   "cell_type": "code",
   "execution_count": 42,
   "metadata": {},
   "outputs": [
    {
     "data": {
      "text/plain": [
       "Text(0.5,1,'porcentagem da familia em engenharia')"
      ]
     },
     "execution_count": 42,
     "metadata": {},
     "output_type": "execute_result"
    },
    {
     "data": {
      "image/png": "[encoded data removed]",
      "text/plain": [
       "<Figure size 432x288 with 1 Axes>"
      ]
     },
     "metadata": {},
     "output_type": "display_data"
    }
   ],
   "source": [
    "adim = pies_idx[\"porcentagem de familia\"]\n",
    "adim.plot(kind=\"pie\", autopct=\"%.2f\", legend=False)\n",
    "plt.title(\"porcentagem da familia em engenharia\")"
   ]
  },
  {
   "cell_type": "markdown",
   "metadata": {},
   "source": [
    "Vimos a partir deste gráfico de que a maioria das pessoas entrevistadas não tem um familiar que fez engenharia, mas logo em seguida deste número existe um número significante de quantas meninas tem um pai que se formou em engenharia"
   ]
  },
  {
   "cell_type": "markdown",
   "metadata": {},
   "source": [
    "# O QUE FALTA\n",
    "\n",
    "* FAZER NOSSA HIPOTESE"
   ]
  },
  {
   "cell_type": "markdown",
   "metadata": {},
   "source": [
    "# Regressão Logística"
   ]
  },
  {
   "cell_type": "code",
   "execution_count": 43,
   "metadata": {},
   "outputs": [
    {
     "data": {
      "text/plain": [
       "['Algum familiar na engenharia?',\n",
       " 'Com quantos anos você espera se aposentar?',\n",
       " 'Como descobriu o Insper?',\n",
       " 'Curso',\n",
       " 'ESTADO/CID',\n",
       " 'Familiar na área?',\n",
       " 'Faz Engenharia?',\n",
       " 'IDADE',\n",
       " 'Insper foi sua 1a opcao?',\n",
       " 'NOME',\n",
       " 'NOME_EM',\n",
       " 'Por que Insper?',\n",
       " 'Por que escolheu este curso?',\n",
       " 'Quais familiares?',\n",
       " 'Quanto você espera ganhar no seu início de sua carreira?',\n",
       " 'SEMESTRE',\n",
       " 'Se \"Não\", qual?',\n",
       " 'Se SIM na pergunta anterior, quais Familiares?',\n",
       " 'Seu curso foi sua 1a escolha?',\n",
       " 'TIPO_EM',\n",
       " 'Ter poucas meninas na engenharia te desmotiva a ingressar na engenharia?',\n",
       " 'Ter poucas meninas no Insper te desmotiva a ingressar na instituição?',\n",
       " 'Você pretende ter filhos?']"
      ]
     },
     "execution_count": 43,
     "metadata": {},
     "output_type": "execute_result"
    }
   ],
   "source": [
    "# o sample foi utilizado para fazer um shuffle em nosso dataframe\n",
    "Insper_mist= Insper.sample(66, replace=False)\n",
    "Insper_mist.head(1)\n",
    "Insper_mist.columns.tolist()"
   ]
  },
  {
   "cell_type": "code",
   "execution_count": 44,
   "metadata": {},
   "outputs": [
    {
     "data": {
      "text/plain": [
       "(66, 23)"
      ]
     },
     "execution_count": 44,
     "metadata": {},
     "output_type": "execute_result"
    }
   ],
   "source": [
    "Insper_mist.shape"
   ]
  },
  {
   "cell_type": "code",
   "execution_count": 45,
   "metadata": {},
   "outputs": [],
   "source": [
    "teste = Insper_mist[:33]\n",
    "treinamento = Insper_mist[33:]"
   ]
  },
  {
   "cell_type": "code",
   "execution_count": 46,
   "metadata": {},
   "outputs": [],
   "source": [
    "X_train = (treinamento[\"Faz Engenharia?\"]==\"1\")\n",
    "X_test = (teste[\"Faz Engenharia?\"]==\"1\")\n",
    "y_train = (treinamento[\"Faz Engenharia?\"]==\"1\")\n",
    "y_test= (teste[\"Faz Engenharia?\"]==\"1\")"
   ]
  },
  {
   "cell_type": "code",
   "execution_count": 47,
   "metadata": {},
   "outputs": [],
   "source": [
    "#retirando colunas para realizar a análise\n",
    "\n",
    "Insper_mist = Insper_mist.drop('Quais familiares?',1)\n",
    "Insper_mist = Insper_mist.drop('Algum familiar na engenharia?',1)\n",
    "Insper_mist=Insper_mist.drop('Se SIM na pergunta anterior, quais Familiares?',1)\n",
    "Insper_mist = Insper_mist.drop('Como descobriu o Insper?',1)\n",
    "Insper_mist = Insper_mist.drop('SEMESTRE',1)\n",
    "Insper_mist = Insper_mist.drop('Por que Insper?',1)\n",
    "Insper_mist = Insper_mist.drop('Se \"Não\", qual?',1)\n",
    "Insper_mist = Insper_mist.drop('NOME',1)\n",
    "Insper_mist = Insper_mist.drop('IDADE',1)\n",
    "Insper_mist = Insper_mist.drop('Ter poucas meninas na engenharia te desmotiva a ingressar na engenharia?',1)\n",
    "Insper_mist = Insper_mist.drop('Com quantos anos você espera se aposentar?',1)\n",
    "Insper_mist = Insper_mist.drop('Quanto você espera ganhar no seu início de sua carreira?',1)\n",
    "Insper_mist = Insper_mist.drop('ESTADO/CID',1)\n",
    "Insper_mist = Insper_mist.drop('Curso',1)\n",
    "Insper_mist = Insper_mist.drop(\"Ter poucas meninas no Insper te desmotiva a ingressar na instituição?\",1)\n",
    "Insper_mist = Insper_mist.drop('NOME_EM',1)\n",
    "Insper_mist = Insper_mist.drop(\"Por que escolheu este curso?\",1)\n"
   ]
  },
  {
   "cell_type": "code",
   "execution_count": 48,
   "metadata": {},
   "outputs": [
    {
     "data": {
      "text/plain": [
       "(66, 6)"
      ]
     },
     "execution_count": 48,
     "metadata": {},
     "output_type": "execute_result"
    }
   ],
   "source": [
    "Insper_mist.shape"
   ]
  },
  {
   "cell_type": "code",
   "execution_count": 49,
   "metadata": {},
   "outputs": [],
   "source": [
    "def dummify(Insper_mist, column_name):\n",
    "    df = Insper_mist.copy()\n",
    "    \n",
    "    df2 = pd.concat([df.drop(column_name, axis=1), pd.get_dummies(Insper_mist[column_name], prefix = column_name)], axis=1)\n",
    "    return df2"
   ]
  },
  {
   "cell_type": "code",
   "execution_count": 50,
   "metadata": {},
   "outputs": [
    {
     "data": {
      "text/plain": [
       "Familiar na área?                float64\n",
       "Faz Engenharia?                  float64\n",
       "Insper foi sua 1a opcao?         float64\n",
       "Seu curso foi sua 1a escolha?    float64\n",
       "Você pretende ter filhos?        float64\n",
       "TIPO_EM_Escola Privada           float64\n",
       "TIPO_EM_Escola Pública           float64\n",
       "dtype: object"
      ]
     },
     "execution_count": 50,
     "metadata": {},
     "output_type": "execute_result"
    }
   ],
   "source": [
    "novo = dummify(Insper_mist, \"TIPO_EM\")\n",
    "novo = novo.astype(np.float64)\n",
    "novo.dtypes"
   ]
  },
  {
   "cell_type": "code",
   "execution_count": 51,
   "metadata": {},
   "outputs": [
    {
     "data": {
      "text/html": [
       "<div>\n",
       "<style scoped>\n",
       "    .dataframe tbody tr th:only-of-type {\n",
       "        vertical-align: middle;\n",
       "    }\n",
       "\n",
       "    .dataframe tbody tr th {\n",
       "        vertical-align: top;\n",
       "    }\n",
       "\n",
       "    .dataframe thead th {\n",
       "        text-align: right;\n",
       "    }\n",
       "</style>\n",
       "<table border=\"1\" class=\"dataframe\">\n",
       "  <thead>\n",
       "    <tr style=\"text-align: right;\">\n",
       "      <th></th>\n",
       "      <th>Familiar na área?</th>\n",
       "      <th>Faz Engenharia?</th>\n",
       "      <th>Insper foi sua 1a opcao?</th>\n",
       "      <th>Seu curso foi sua 1a escolha?</th>\n",
       "      <th>Você pretende ter filhos?</th>\n",
       "      <th>TIPO_EM_Escola Privada</th>\n",
       "      <th>TIPO_EM_Escola Pública</th>\n",
       "    </tr>\n",
       "  </thead>\n",
       "  <tbody>\n",
       "    <tr>\n",
       "      <th>28</th>\n",
       "      <td>0.0</td>\n",
       "      <td>1.0</td>\n",
       "      <td>1.0</td>\n",
       "      <td>1.0</td>\n",
       "      <td>1.0</td>\n",
       "      <td>1.0</td>\n",
       "      <td>0.0</td>\n",
       "    </tr>\n",
       "  </tbody>\n",
       "</table>\n",
       "</div>"
      ],
      "text/plain": [
       "    Familiar na área?  Faz Engenharia?  Insper foi sua 1a opcao?  \\\n",
       "28                0.0              1.0                       1.0   \n",
       "\n",
       "    Seu curso foi sua 1a escolha?  Você pretende ter filhos?  \\\n",
       "28                            1.0                        1.0   \n",
       "\n",
       "    TIPO_EM_Escola Privada  TIPO_EM_Escola Pública  \n",
       "28                     1.0                     0.0  "
      ]
     },
     "execution_count": 51,
     "metadata": {},
     "output_type": "execute_result"
    }
   ],
   "source": [
    "novo.head(1)"
   ]
  },
  {
   "cell_type": "code",
   "execution_count": 52,
   "metadata": {},
   "outputs": [],
   "source": [
    "teste = novo[:33]\n",
    "treinamento= novo[33:]"
   ]
  },
  {
   "cell_type": "code",
   "execution_count": 53,
   "metadata": {},
   "outputs": [],
   "source": [
    "X_train = (treinamento['Faz Engenharia?']==1)\n",
    "X_test = (teste['Faz Engenharia?']==1)\n",
    "y_train = (treinamento['Faz Engenharia?']==1)\n",
    "y_teste = (teste['Faz Engenharia?']==1)"
   ]
  },
  {
   "cell_type": "code",
   "execution_count": 54,
   "metadata": {},
   "outputs": [],
   "source": [
    "X = novo\n",
    "X.drop('Faz Engenharia?', 1)\n",
    "y = novo['Faz Engenharia?']\n",
    "RANDOM_SEED = 42 # faz um random no DataFrame"
   ]
  },
  {
   "cell_type": "code",
   "execution_count": 55,
   "metadata": {},
   "outputs": [],
   "source": [
    "X_train, X_test, y_train, y_test = train_test_split(X, y, test_size=0.33, random_state= RANDOM_SEED)"
   ]
  },
  {
   "cell_type": "code",
   "execution_count": 56,
   "metadata": {},
   "outputs": [
    {
     "name": "stdout",
     "output_type": "stream",
     "text": [
      "Acurácia: 1.0\n"
     ]
    },
    {
     "name": "stderr",
     "output_type": "stream",
     "text": [
      "/anaconda3/anaconda3/lib/python3.6/site-packages/sklearn/linear_model/logistic.py:432: FutureWarning: Default solver will be changed to 'lbfgs' in 0.22. Specify a solver to silence this warning.\n",
      "  FutureWarning)\n"
     ]
    }
   ],
   "source": [
    "model = LogisticRegression()\n",
    "\n",
    "model.fit(X_train, y_train)\n",
    "y_pred = model.predict(X_test)\n",
    "print('Acurácia: {}'.format(accuracy_score(y_test, y_pred)))"
   ]
  },
  {
   "cell_type": "code",
   "execution_count": 57,
   "metadata": {},
   "outputs": [
    {
     "name": "stdout",
     "output_type": "stream",
     "text": [
      "Acurácia: 1.0\n"
     ]
    }
   ],
   "source": [
    "# Testa modelo.\n",
    "y_pred = model.predict(X_test)\n",
    "\n",
    "# Calcula acurácia.\n",
    "acc = accuracy_score(y_test, y_pred)\n",
    "\n",
    "print(\"Acurácia: {}\".format(acc))"
   ]
  },
  {
   "cell_type": "code",
   "execution_count": 58,
   "metadata": {},
   "outputs": [
    {
     "data": {
      "text/plain": [
       "0.0    11\n",
       "1.0    11\n",
       "dtype: int64"
      ]
     },
     "execution_count": 58,
     "metadata": {},
     "output_type": "execute_result"
    }
   ],
   "source": [
    "#para verificar se o programa não está apenas colocando as variáveis como um 1 ou 0\n",
    "\n",
    "pd.Series(y_pred).value_counts()"
   ]
  },
  {
   "cell_type": "code",
   "execution_count": 59,
   "metadata": {},
   "outputs": [
    {
     "name": "stdout",
     "output_type": "stream",
     "text": [
      "1.0 -> 0.0\n",
      "0.0 -> 0.0\n",
      "1.0 -> 0.0\n",
      "1.0 -> 1.0\n",
      "0.0 -> 1.0\n",
      "1.0 -> 1.0\n",
      "1.0 -> 0.0\n",
      "0.0 -> 1.0\n",
      "0.0 -> 1.0\n",
      "0.0 -> 1.0\n",
      "1.0 -> 0.0\n",
      "0.0 -> 0.0\n",
      "1.0 -> 1.0\n",
      "0.0 -> 0.0\n",
      "0.0 -> 0.0\n",
      "0.0 -> 1.0\n",
      "0.0 -> 0.0\n",
      "0.0 -> 0.0\n",
      "0.0 -> 1.0\n",
      "1.0 -> 0.0\n",
      "0.0 -> 1.0\n",
      "0.0 -> 0.0\n",
      "1.0 -> 1.0\n",
      "0.0 -> 0.0\n",
      "0.0 -> 0.0\n",
      "0.0 -> 0.0\n",
      "0.0 -> 1.0\n",
      "1.0 -> 0.0\n",
      "0.0 -> 1.0\n",
      "0.0 -> 0.0\n",
      "1.0 -> 1.0\n",
      "1.0 -> 0.0\n",
      "0.0 -> 0.0\n"
     ]
    }
   ],
   "source": [
    "n = 33\n",
    "\n",
    "for original, binarized in zip(teste[\"Faz Engenharia?\"][:n], y_train[:n]):\n",
    "    print('{} -> {}'.format(original, binarized))"
   ]
  },
  {
   "cell_type": "code",
   "execution_count": 60,
   "metadata": {},
   "outputs": [],
   "source": [
    "teste_array = treinamento[\"Faz Engenharia?\"].values.reshape(1, -1) "
   ]
  },
  {
   "cell_type": "code",
   "execution_count": 61,
   "metadata": {},
   "outputs": [
    {
     "data": {
      "text/plain": [
       "SGDClassifier(alpha=0.0001, average=False, class_weight=None,\n",
       "       early_stopping=False, epsilon=0.1, eta0=0.0, fit_intercept=True,\n",
       "       l1_ratio=0.15, learning_rate='optimal', loss='hinge', max_iter=1,\n",
       "       n_iter=None, n_iter_no_change=5, n_jobs=None, penalty='l2',\n",
       "       power_t=0.5, random_state=42, shuffle=True, tol=None,\n",
       "       validation_fraction=0.1, verbose=0, warm_start=False)"
      ]
     },
     "execution_count": 61,
     "metadata": {},
     "output_type": "execute_result"
    }
   ],
   "source": [
    "from sklearn.linear_model import SGDClassifier\n",
    "\n",
    "sgd_clf = SGDClassifier(max_iter=1, tol=None, random_state=RANDOM_SEED)  # Existe aleatoriedade dentro do SGDClassifier.\n",
    "sgd_clf.fit(X_train, y_train)"
   ]
  },
  {
   "cell_type": "code",
   "execution_count": 62,
   "metadata": {},
   "outputs": [
    {
     "name": "stdout",
     "output_type": "stream",
     "text": [
      "[1. 0. 1. 1. 1. 1. 0. 1. 0. 1. 1. 0. 0. 0. 1. 0. 1. 0. 0. 0. 1. 0.]\n",
      "Accuracy: 1.0\n"
     ]
    }
   ],
   "source": [
    "y_pred_mist = sgd_clf.predict(X_test)\n",
    "print(y_pred_mist)\n",
    "print('Accuracy: {}'.format(accuracy_score(y_test, y_pred_mist)))"
   ]
  },
  {
   "cell_type": "markdown",
   "metadata": {},
   "source": [
    "A acurácia do programa é de 100%, isso ocorre devido ao fato do nosso banco de dados possuir apenas 66 dados. O motivo disto é que analisamos uma demografia pequena (apenas Alunos Insper) e ao restringirmos para apenas meninas. Para que nosso programa seja mais realista, é preciso buscar mais dados, por meio de obter mais respostas e fazer essa mesma análise para meninas na engenharia em outras faculdades, fazer uma análise mais"
   ]
  },
  {
   "cell_type": "markdown",
   "metadata": {},
   "source": [
    "# Conclusão"
   ]
  },
  {
   "cell_type": "markdown",
   "metadata": {},
   "source": [
    "Ao finalizar a Regressão Logística, pode-se concluir que nossa programação consegue prever, em alta precisão, se ao uma menina entrar no INSPER, diante de suas características vai fazer Engenharia ou não.\n",
    "\n",
    "A previsão feita pelo modelo é altamente confiável, é possível notar isso ao olhar a acurácia, a qual é 1. Ou seja, o modelo tem uma previsão exata. Esse fato deve ocorrer pelo motivo de as bases de dados terem sido colhidas por nós mesmo, essa coleta foi realizada por meio do Google Forms, no qual criamos um formulário específico para o que queriamos."
   ]
  },
  {
   "cell_type": "markdown",
   "metadata": {},
   "source": [
    "# Bibliografia:\n",
    "\n",
    "* pd.concat:\n",
    "https://stackoverflow.com/questions/21435176/appending-two-dataframes-with-same-columns-different-order\n",
    "\n",
    "* como fazer um random no DataFrame:\n",
    "https://pt.stackoverflow.com/questions/324588/fazer-um-random-de-um-dataset-com-pandas\n",
    "\n",
    "* arrumar o unit8 para int64:\n",
    "https://stackoverflow.com/questions/46689428/convert-np-array-of-type-float64-to-type-uint8-scaling-values"
   ]
  },
  {
   "cell_type": "markdown",
   "metadata": {},
   "source": [
    "## Links Forms"
   ]
  },
  {
   "cell_type": "markdown",
   "metadata": {},
   "source": [
    "* Meninas na Engenharia Insper:\n",
    "    https://goo.gl/forms/oT9rrDztVLDoLcd63  \n",
    "    \n",
    "* Meninas em ADM/ECO no Insper:\n",
    "    https://goo.gl/forms/ylgdPyDlJdwgJTtt1\n",
    "    \n",
    "* Meninas na Engenharia em outras faculdades:\n",
    "    https://goo.gl/forms/suHBJ1MHP0FR1v6I3"
   ]
  },
  {
   "cell_type": "markdown",
   "metadata": {},
   "source": [
    "## Avaliação \n",
    "* criação dos dataframes = Manuela e Beatriz\n",
    "* organização do excel = Manuela\n",
    "* colocando os dataframes do jupyter e juntando eles = Beatrz\n",
    "* Análise exploratória = Beatriz e Manuela\n",
    "* Observações da análise exploratória = Manuela\n",
    "* regressão logística = majoriamente Beatriz e Manuela"
   ]
  }
 ],
 "metadata": {
  "kernelspec": {
   "display_name": "Python 3",
   "language": "python",
   "name": "python3"
  },
  "language_info": {
   "codemirror_mode": {
    "name": "ipython",
    "version": 3
   },
   "file_extension": ".py",
   "mimetype": "text/x-python",
   "name": "python",
   "nbconvert_exporter": "python",
   "pygments_lexer": "ipython3",
   "version": "3.6.4"
  }
 },
 "nbformat": 4,
 "nbformat_minor": 2
}
