{
 "cells": [
  {
   "cell_type": "markdown",
   "metadata": {},
   "source": [
    "# MENINAS NA ENGENHARIA"
   ]
  },
  {
   "cell_type": "markdown",
   "metadata": {},
   "source": [
    "### *Beatriz Alexandre e Manuela Castilla*"
   ]
  },
  {
   "cell_type": "markdown",
   "metadata": {},
   "source": [
    "## Objetivo do trabalho"
   ]
  },
  {
   "cell_type": "markdown",
   "metadata": {},
   "source": [
    "Para o nosso trabalho, decidimos pesquisar e estudar sobre meninas na engenharia, nos questionando o porque há tão poucas.. Para isso, não havia um dataset já pronto. Assim, fizemos formulários para meninas na engenharia, tanto no INSPER quanto para outras faculdades, como também meninas que fazem os demais cursos no INSPER (administração e economia).\n",
    "\n",
    "Assim, obtemos suficiente respostas para podermos criar e analisar um dataset, conseguindo então criar um classificador, que, a partir das respostas ao formulário, nos diria se a menina tende a fazer engenharia ou não."
   ]
  },
  {
   "cell_type": "markdown",
   "metadata": {},
   "source": [
    "Para isso, organizamos os dados e analisamos estes."
   ]
  },
  {
   "cell_type": "markdown",
   "metadata": {},
   "source": [
    "## Pegando os dados: meninas na engenharia"
   ]
  },
  {
   "cell_type": "code",
   "execution_count": 1,
   "metadata": {},
   "outputs": [],
   "source": [
    "# primeiro importamos tudo que seria necessário para o nosso projeto"
   ]
  },
  {
   "cell_type": "code",
   "execution_count": 2,
   "metadata": {},
   "outputs": [
    {
     "name": "stderr",
     "output_type": "stream",
     "text": [
      "/anaconda3/anaconda3/lib/python3.6/site-packages/statsmodels/compat/pandas.py:56: FutureWarning: The pandas.core.datetools module is deprecated and will be removed in a future version. Please use the pandas.tseries module instead.\n",
      "  from pandas.core import datetools\n"
     ]
    }
   ],
   "source": [
    "import pandas as pd\n",
    "import matplotlib\n",
    "import matplotlib.pyplot as plt\n",
    "import matplotlib as mpl  \n",
    "import seaborn as sns\n",
    "import numpy as np\n",
    "import itertools\n",
    "from scipy import stats\n",
    "from emoji import UNICODE_EMOJI\n",
    "from scipy.stats import norm, probplot, t\n",
    "import statsmodels.api as sm\n",
    "from pandas.core import datetools\n",
    "from sklearn.linear_model import SGDClassifier"
   ]
  },
  {
   "cell_type": "markdown",
   "metadata": {},
   "source": [
    "#### Primeiramente, lemos os excels e organizamos estes:"
   ]
  },
  {
   "cell_type": "markdown",
   "metadata": {},
   "source": [
    "Lendo a primeira página do excel cuja é da engenharia do INSPER:"
   ]
  },
  {
   "cell_type": "code",
   "execution_count": 21,
   "metadata": {},
   "outputs": [],
   "source": [
    "eng_insper = pd.read_excel('PESQUISA.xlsx', sheet_name = 0)"
   ]
  },
  {
   "cell_type": "code",
   "execution_count": 23,
   "metadata": {},
   "outputs": [],
   "source": [
    "eng_insper = eng_insper.rename(columns={\"Qual seu nome completo?\": \"NOME\", \"Qual semestre?\": \"SEMESTRE\", \"Idade\": \"IDADE\", \"Qual engenharia?\": \"TIPO_ENG\", \"De onde você veio (cidade/estado)?\": \"ESTADO/CID\", \"Frequentou o Ensino Médio...\":\"TIPO_EM\", \"Qual o nome do seu colégio?\": \"NOME_EM\", 'Insper foi sua 1a opcao?': 'Sua atual faculdade foi sua 1a opção?', 'Como descobriu o Insper?':'Como descobriu sua faculdade?', 'Por que Insper?': 'Por que escolheu sua faculdade?'})\n",
    "\n",
    "\n",
    "semestre=[]\n",
    "\n",
    "for k in eng_insper.SEMESTRE:\n",
    "    if k == \"2º Semestre\":\n",
    "        semestre.append(2)\n",
    "    elif k == \"3º Semestre\":\n",
    "        semestre.append(3)\n",
    "    elif k == \"4º Semstre\":\n",
    "        semestre.append(4)\n",
    "    elif k ==\"5º Semestre\":\n",
    "        semestre.append(5)\n",
    "    elif k ==\"6º semestre\":\n",
    "        semestre.append(6)\n",
    "    elif k == \"7º Semestre\":\n",
    "        semestre.append(7)\n",
    "    else:\n",
    "         semestre.append(8)\n",
    "            \n",
    "eng_insper.SEMESTRE = semestre\n",
    "\n",
    "\n",
    "eng_insper['Se \"Não\", qual?'] = eng_insper['Se \"Não\", qual?'].fillna('Insper')\n",
    "\n",
    "eng_insper['Se SIM na pergunta anterior,  quais familiares?'] = eng_insper['Se SIM na pergunta anterior,  quais familiares?'].fillna('Ninguém')"
   ]
  },
  {
   "cell_type": "code",
   "execution_count": 24,
   "metadata": {},
   "outputs": [],
   "source": [
    "eng_insper['Fez Insper?']='Sim'\n"
   ]
  },
  {
   "cell_type": "code",
   "execution_count": 25,
   "metadata": {},
   "outputs": [],
   "source": [
    "eng_insper_idx=eng_insper.set_index('NOME')"
   ]
  },
  {
   "cell_type": "markdown",
   "metadata": {},
   "source": [
    "lendo o segundo datasheet de todas as faculdades:"
   ]
  },
  {
   "cell_type": "code",
   "execution_count": 26,
   "metadata": {},
   "outputs": [],
   "source": [
    "eng_geral = pd.read_excel('PESQUISA.xlsx', sheet_name = 1)"
   ]
  },
  {
   "cell_type": "code",
   "execution_count": 27,
   "metadata": {},
   "outputs": [],
   "source": [
    "eng_geral = eng_geral.rename(columns={\"Qual seu nome completo?\": \"NOME\", \"Qual semestre?\": \"SEMESTRE\", \"Idade\": \"IDADE\", \"Qual engenharia?\": \"TIPO_ENG\", \"De onde você veio (cidade/estado)?\": \"ESTADO/CID\", \"Frequentou o Ensino Médio...\":\"TIPO_EM\", \"Qual o nome do seu colégio?\": \"NOME_EM\"})\n",
    "\n",
    "\n",
    "eng_geral['Se SIM na pergunta anterior,  quais familiares?'] = eng_geral['Se SIM na pergunta anterior,  quais familiares?'].fillna('Ninguém')\n",
    "\n",
    "\n",
    "eng_geral['Se \"Não\", qual?'] = eng_geral['Se \"Não\", qual?'].fillna('A atual')\n",
    "\n",
    "\n",
    "semestre=[]\n",
    "\n",
    "for k in eng_geral.SEMESTRE:\n",
    "    if k == \"2º Semestre\":\n",
    "        semestre.append(2)\n",
    "    elif k == \"3º Semestre\":\n",
    "        semestre.append(3)\n",
    "    elif k == \"4º Semstre\":\n",
    "        semestre.append(4)\n",
    "    elif k ==\"5º Semestre\":\n",
    "        semestre.append(5)\n",
    "    elif k ==\"6º semestre\":\n",
    "        semestre.append(6)\n",
    "    elif k == \"7º Semestre\":\n",
    "        semestre.append(7)\n",
    "    else:\n",
    "         semestre.append(8)\n",
    "            \n",
    "eng_geral.SEMESTRE = semestre"
   ]
  },
  {
   "cell_type": "code",
   "execution_count": 28,
   "metadata": {},
   "outputs": [],
   "source": [
    "eng_geral = eng_geral.drop('Distância da faculdade de casa...', 1)"
   ]
  },
  {
   "cell_type": "code",
   "execution_count": 59,
   "metadata": {},
   "outputs": [],
   "source": [
    "eng_geral['Fez Insper?']='Não'"
   ]
  },
  {
   "cell_type": "code",
   "execution_count": 31,
   "metadata": {},
   "outputs": [],
   "source": [
    "eng_geral_idx=eng_geral.set_index('NOME')"
   ]
  },
  {
   "cell_type": "markdown",
   "metadata": {},
   "source": [
    "Ao baixar os datasheets, juntamos estes:"
   ]
  },
  {
   "cell_type": "code",
   "execution_count": 32,
   "metadata": {},
   "outputs": [
    {
     "data": {
      "text/plain": [
       "120"
      ]
     },
     "execution_count": 32,
     "metadata": {},
     "output_type": "execute_result"
    }
   ],
   "source": [
    "len(pd.concat([eng_insper_idx, eng_geral_idx]))"
   ]
  },
  {
   "cell_type": "code",
   "execution_count": 34,
   "metadata": {},
   "outputs": [
    {
     "data": {
      "text/html": [
       "<div>\n",
       "<style scoped>\n",
       "    .dataframe tbody tr th:only-of-type {\n",
       "        vertical-align: middle;\n",
       "    }\n",
       "\n",
       "    .dataframe tbody tr th {\n",
       "        vertical-align: top;\n",
       "    }\n",
       "\n",
       "    .dataframe thead th {\n",
       "        text-align: right;\n",
       "    }\n",
       "</style>\n",
       "<table border=\"1\" class=\"dataframe\">\n",
       "  <thead>\n",
       "    <tr style=\"text-align: right;\">\n",
       "      <th></th>\n",
       "      <th>IDADE</th>\n",
       "      <th>SEMESTRE</th>\n",
       "      <th>TIPO_ENG</th>\n",
       "      <th>ESTADO/CID</th>\n",
       "      <th>TIPO_EM</th>\n",
       "      <th>NOME_EM</th>\n",
       "      <th>Algum familiar trabalha na área de engenharia?</th>\n",
       "      <th>Se SIM na pergunta anterior,  quais familiares?</th>\n",
       "      <th>Engenharia foi sua 1a escolha?</th>\n",
       "      <th>Por que escolheu Engenharia?</th>\n",
       "      <th>Sua atual faculdade foi sua 1a opção?</th>\n",
       "      <th>Se \"Não\", qual?</th>\n",
       "      <th>Como descobriu sua faculdade?</th>\n",
       "      <th>Por que escolheu sua faculdade?</th>\n",
       "      <th>Ter poucas meninas na engenharia te desmotiva a ingressar na engenharia?</th>\n",
       "      <th>Quanto você espera ganhar no seu início de sua carreira?</th>\n",
       "      <th>Com quantos anos você espera se aposentar?</th>\n",
       "      <th>Você pretende ter filhos?</th>\n",
       "      <th>Fez Insper?</th>\n",
       "    </tr>\n",
       "    <tr>\n",
       "      <th>NOME</th>\n",
       "      <th></th>\n",
       "      <th></th>\n",
       "      <th></th>\n",
       "      <th></th>\n",
       "      <th></th>\n",
       "      <th></th>\n",
       "      <th></th>\n",
       "      <th></th>\n",
       "      <th></th>\n",
       "      <th></th>\n",
       "      <th></th>\n",
       "      <th></th>\n",
       "      <th></th>\n",
       "      <th></th>\n",
       "      <th></th>\n",
       "      <th></th>\n",
       "      <th></th>\n",
       "      <th></th>\n",
       "      <th></th>\n",
       "    </tr>\n",
       "  </thead>\n",
       "  <tbody>\n",
       "    <tr>\n",
       "      <th>Vitória de Almeida Oliveira</th>\n",
       "      <td>Entre 19 a 21 anos</td>\n",
       "      <td>2</td>\n",
       "      <td>Engenharia Mecatrônica</td>\n",
       "      <td>Osasco SP</td>\n",
       "      <td>Escola Privada</td>\n",
       "      <td>Coc Sapiens</td>\n",
       "      <td>Não</td>\n",
       "      <td>Ninguém</td>\n",
       "      <td>Sim</td>\n",
       "      <td>Gosta de Exatas</td>\n",
       "      <td>Sim</td>\n",
       "      <td>Insper</td>\n",
       "      <td>Por amigos</td>\n",
       "      <td>Infraestrutura, Reconhecimento no mercado devi...</td>\n",
       "      <td>Não</td>\n",
       "      <td>R$ 15000 - R$ 20000</td>\n",
       "      <td>Entre 62 a 65 anos</td>\n",
       "      <td>Não</td>\n",
       "      <td>Sim</td>\n",
       "    </tr>\n",
       "    <tr>\n",
       "      <th>manuela castilla</th>\n",
       "      <td>Entre 16 a 18 anos</td>\n",
       "      <td>2</td>\n",
       "      <td>Engenharia Mecatrônica</td>\n",
       "      <td>São Paulo SP</td>\n",
       "      <td>Escola Privada</td>\n",
       "      <td>Escola da vila</td>\n",
       "      <td>Sim</td>\n",
       "      <td>Pai e tio</td>\n",
       "      <td>Não</td>\n",
       "      <td>Gosta de Exatas, Desde de criança brinca com e...</td>\n",
       "      <td>Sim</td>\n",
       "      <td>Insper</td>\n",
       "      <td>Por amigos, Por família</td>\n",
       "      <td>Infraestrutura, Ensino diferenciado</td>\n",
       "      <td>Não</td>\n",
       "      <td>R$ 5000 - R$ 10000</td>\n",
       "      <td>Entre 62 a 65 anos</td>\n",
       "      <td>Sim</td>\n",
       "      <td>Sim</td>\n",
       "    </tr>\n",
       "  </tbody>\n",
       "</table>\n",
       "</div>"
      ],
      "text/plain": [
       "                                          IDADE  SEMESTRE  \\\n",
       "NOME                                                        \n",
       "Vitória de Almeida Oliveira  Entre 19 a 21 anos         2   \n",
       "manuela castilla             Entre 16 a 18 anos         2   \n",
       "\n",
       "                                           TIPO_ENG    ESTADO/CID  \\\n",
       "NOME                                                                \n",
       "Vitória de Almeida Oliveira  Engenharia Mecatrônica     Osasco SP   \n",
       "manuela castilla             Engenharia Mecatrônica  São Paulo SP   \n",
       "\n",
       "                                    TIPO_EM         NOME_EM  \\\n",
       "NOME                                                          \n",
       "Vitória de Almeida Oliveira  Escola Privada     Coc Sapiens   \n",
       "manuela castilla             Escola Privada  Escola da vila   \n",
       "\n",
       "                            Algum familiar trabalha na área de engenharia?  \\\n",
       "NOME                                                                         \n",
       "Vitória de Almeida Oliveira                                            Não   \n",
       "manuela castilla                                                       Sim   \n",
       "\n",
       "                            Se SIM na pergunta anterior,  quais familiares?  \\\n",
       "NOME                                                                          \n",
       "Vitória de Almeida Oliveira                                         Ninguém   \n",
       "manuela castilla                                                  Pai e tio   \n",
       "\n",
       "                            Engenharia foi sua 1a escolha?  \\\n",
       "NOME                                                         \n",
       "Vitória de Almeida Oliveira                            Sim   \n",
       "manuela castilla                                       Não   \n",
       "\n",
       "                                                  Por que escolheu Engenharia?  \\\n",
       "NOME                                                                             \n",
       "Vitória de Almeida Oliveira                                    Gosta de Exatas   \n",
       "manuela castilla             Gosta de Exatas, Desde de criança brinca com e...   \n",
       "\n",
       "                            Sua atual faculdade foi sua 1a opção?  \\\n",
       "NOME                                                                \n",
       "Vitória de Almeida Oliveira                                   Sim   \n",
       "manuela castilla                                              Sim   \n",
       "\n",
       "                            Se \"Não\", qual? Como descobriu sua faculdade?  \\\n",
       "NOME                                                                        \n",
       "Vitória de Almeida Oliveira          Insper                    Por amigos   \n",
       "manuela castilla                     Insper       Por amigos, Por família   \n",
       "\n",
       "                                               Por que escolheu sua faculdade?  \\\n",
       "NOME                                                                             \n",
       "Vitória de Almeida Oliveira  Infraestrutura, Reconhecimento no mercado devi...   \n",
       "manuela castilla                           Infraestrutura, Ensino diferenciado   \n",
       "\n",
       "                            Ter poucas meninas na engenharia te desmotiva a ingressar na engenharia?  \\\n",
       "NOME                                                                                                   \n",
       "Vitória de Almeida Oliveira                                                Não                         \n",
       "manuela castilla                                                           Não                         \n",
       "\n",
       "                            Quanto você espera ganhar no seu início de sua carreira?  \\\n",
       "NOME                                                                                   \n",
       "Vitória de Almeida Oliveira                                R$ 15000 - R$ 20000         \n",
       "manuela castilla                                            R$ 5000 - R$ 10000         \n",
       "\n",
       "                            Com quantos anos você espera se aposentar?  \\\n",
       "NOME                                                                     \n",
       "Vitória de Almeida Oliveira                         Entre 62 a 65 anos   \n",
       "manuela castilla                                    Entre 62 a 65 anos   \n",
       "\n",
       "                            Você pretende ter filhos? Fez Insper?  \n",
       "NOME                                                               \n",
       "Vitória de Almeida Oliveira                       Não         Sim  \n",
       "manuela castilla                                  Sim         Sim  "
      ]
     },
     "execution_count": 34,
     "metadata": {},
     "output_type": "execute_result"
    }
   ],
   "source": [
    "eng = pd.concat([eng_insper_idx, eng_geral_idx])\n",
    "eng.head(2)"
   ]
  },
  {
   "cell_type": "markdown",
   "metadata": {},
   "source": [
    "Para poder fazer nossa análise, fora precisa, simplificar as respostas, para consgeuir fazer a análise sem algum erro"
   ]
  },
  {
   "cell_type": "code",
   "execution_count": 35,
   "metadata": {},
   "outputs": [],
   "source": [
    "sp = len(eng[eng['ESTADO/CID'].str.contains('SP|Sp', case=False)])\n",
    "sc = len(eng[eng['ESTADO/CID'].str.contains('SC', case=False)])\n",
    "mg =len(eng[eng['ESTADO/CID'].str.contains('MG', case=False)])\n",
    "to = len(eng[eng['ESTADO/CID'].str.contains('TO', case=False)])\n",
    "ba = len(eng[eng['ESTADO/CID'].str.contains('BA', case=False)])\n",
    "rj = len(eng[eng['ESTADO/CID'].str.contains('RJ', case=False)])\n",
    "pr = len(eng[eng['ESTADO/CID'].str.contains('PR', case=False)])\n",
    "ms = len(eng[eng['ESTADO/CID'].str.contains('MS', case=False)])\n",
    "es = len(eng[eng['ESTADO/CID'].str.contains('ES', case=False)])\n",
    "go = len(eng[eng['ESTADO/CID'].str.contains('GO', case=False)])"
   ]
  },
  {
   "cell_type": "code",
   "execution_count": 36,
   "metadata": {},
   "outputs": [
    {
     "name": "stdout",
     "output_type": "stream",
     "text": [
      "  quem  estado\n",
      "0   SP     104\n",
      "1   SC       3\n",
      "2   MG       6\n",
      "3   TO       5\n",
      "4   BA       9\n",
      "5   RJ       2\n",
      "6   PR       2\n",
      "7   MS       1\n",
      "8   ES       3\n",
      "9   GO       2\n"
     ]
    },
    {
     "name": "stderr",
     "output_type": "stream",
     "text": [
      "/anaconda3/anaconda3/lib/python3.6/site-packages/ipykernel_launcher.py:29: UserWarning: Pandas doesn't allow columns to be created via a new attribute name - see https://pandas.pydata.org/pandas-docs/stable/indexing.html#attribute-access\n"
     ]
    }
   ],
   "source": [
    "torta_es = []\n",
    "torta_es.append(sp)\n",
    "torta_es.append(sc)\n",
    "torta_es.append(mg)\n",
    "torta_es.append(to)\n",
    "torta_es.append(ba)\n",
    "torta_es.append(rj)\n",
    "torta_es.append(pr)\n",
    "torta_es.append(ms)\n",
    "torta_es.append(es)\n",
    "torta_es.append(go)\n",
    "\n",
    "nomes_es =[]\n",
    "nomes_es.append(\"SP\")\n",
    "nomes_es.append(\"SC\")\n",
    "nomes_es.append(\"MG\")\n",
    "nomes_es.append(\"TO\")\n",
    "nomes_es.append(\"BA\")\n",
    "nomes_es.append(\"RJ\")\n",
    "nomes_es.append(\"PR\")\n",
    "nomes_es.append(\"MS\")\n",
    "nomes_es.append(\"ES\")\n",
    "nomes_es.append(\"GO\")\n",
    "\n",
    "tortas_es = pd.DataFrame()\n",
    "tortas_es[\"quem\"]= nomes_es\n",
    "tortas_es[\"estado\"] = torta_es\n",
    "\n",
    "tortas_es.idx = tortas_es.set_index(\"quem\")\n",
    "tortas_es.idx\n",
    "\n",
    "print(tortas_es)"
   ]
  },
  {
   "cell_type": "code",
   "execution_count": 47,
   "metadata": {},
   "outputs": [],
   "source": [
    "mae = 0\n",
    "maeL =[]\n",
    "\n",
    "avos = 0\n",
    "avosL =[]\n",
    "\n",
    "pai = 0\n",
    "paiL =[]\n",
    "\n",
    "tio = 0\n",
    "tioL=[]\n",
    "\n",
    "irmaos =0\n",
    "irmaosL =[]\n",
    "\n",
    "ninguem = 0\n",
    "ninguemL =[]\n",
    "\n",
    "padrasto = 0\n",
    "padrastoL=[]\n",
    "\n",
    "primos = 0\n",
    "primosL=[]\n",
    "\n",
    "for k in eng['Se SIM na pergunta anterior,  quais familiares?']:\n",
    "    split_v = k.split(\",\")\n",
    "    for i in split_v:\n",
    "        split_e = i.split(\" e\")\n",
    "    \n",
    "    for k in split_e:\n",
    "        if k == \"pai\" or k ==\"Pai\" or k == \"Meu pai\" or k ==\"pai e mãe \":\n",
    "            pai+=1\n",
    "            paiL.append(\"pai\")\n",
    "        elif k == \" mãe \" or k == \"Mãe\" or k == \"pai e mãe \":\n",
    "            mae+=1\n",
    "            maeL.append(\"mae\")\n",
    "        elif k ==\"irmã \" or k ==\" meu irmão\" or k ==\" irmão\" :\n",
    "            irmaos+=1\n",
    "            irmaosL.append(\"irmao\")\n",
    "        elif k ==\" tio.\" or k ==\" tios\" or k ==\"Tios\" or k ==\" tio\":\n",
    "            tio+=1\n",
    "            tioL.append(\"tio\")\n",
    "        elif \"padrasto\" in k.lower():\n",
    "            padrasto+=1\n",
    "            padrastoL.append(\"padrasto\")\n",
    "        elif \"ninguém\" in k.lower():\n",
    "            ninguem+=1\n",
    "            ninguemL.append(\"ninguem\")\n",
    "        elif \"avô\" in k.lower() or k==\" avô\":\n",
    "            avos+=1\n",
    "            avosL.append(\"avos\")\n",
    "        elif k ==\" primos\" or k =='Primo' or k==' primas' or k==\" primo\" or k==' primos ' or k==\"Dois primos\":\n",
    "            primos +=1\n",
    "            primosL.append(\"primos\")\n",
    "    \n"
   ]
  },
  {
   "cell_type": "markdown",
   "metadata": {},
   "source": [
    "## Pegando os dados: meninas do insper"
   ]
  },
  {
   "cell_type": "markdown",
   "metadata": {},
   "source": [
    "#### lendo o excel das meninas de engenharia do INSPER"
   ]
  },
  {
   "cell_type": "code",
   "execution_count": 50,
   "metadata": {},
   "outputs": [],
   "source": [
    "# leitura do excel \n",
    "eng_insper_2 = pd.read_excel('PESQUISA.xlsx', sheet_name = 0)"
   ]
  },
  {
   "cell_type": "code",
   "execution_count": 51,
   "metadata": {},
   "outputs": [],
   "source": [
    "#renomeando colunas:\n",
    "eng_insper_2 = eng_insper_2.rename(columns={\"Qual seu nome completo?\": \"NOME\", \"Qual semestre?\": \"SEMESTRE\", \"Idade\": \"IDADE\", \"Qual engenharia?\": \"Curso\", \"De onde você veio (cidade/estado)?\": \"ESTADO/CID\", \"Frequentou o Ensino Médio...\":\"TIPO_EM\", \"Qual o nome do seu colégio?\": \"NOME_EM\",  'Algum familiar trabalha na área de engenharia?':'Familiar na área?',  'Se SIM na pergunta anterior,  quais familiares?':'Quais familiares?', 'Engenharia foi sua 1a escolha?':'Seu curso foi sua 1a escolha?','Por que escolheu Engenharia?':'Por que escolheu este curso ?'})\n",
    "\n",
    "#limpeza e modificações\n",
    "semestre=[]\n",
    "\n",
    "for k in eng_insper_2.SEMESTRE:\n",
    "    if k == \"2º Semestre\":\n",
    "        semestre.append(2)\n",
    "    elif k == \"3º Semestre\":\n",
    "        semestre.append(3)\n",
    "    elif k == \"4º Semstre\":\n",
    "        semestre.append(4)\n",
    "    elif k ==\"5º Semestre\":\n",
    "        semestre.append(5)\n",
    "    elif k ==\"6º semestre\":\n",
    "        semestre.append(6)\n",
    "    elif k == \"7º Semestre\":\n",
    "        semestre.append(7)\n",
    "    else:\n",
    "         semestre.append(8)\n",
    "            \n",
    "eng_insper_2.SEMESTRE = semestre\n",
    "\n",
    "eng_insper_2['Se \"Não\", qual?'] = eng_insper_2['Se \"Não\", qual?'].fillna('Insper')\n",
    "\n",
    "eng_insper_2['Faz Engenharia?']= '1'\n",
    "\n",
    "eng_insper_2['Quais familiares?'] = eng_insper_2['Quais familiares?'].fillna('Ninguém')\n"
   ]
  },
  {
   "cell_type": "code",
   "execution_count": 52,
   "metadata": {},
   "outputs": [],
   "source": [
    "eng_insper_2_idx=eng_insper_2.set_index('NOME')"
   ]
  },
  {
   "cell_type": "markdown",
   "metadata": {},
   "source": [
    "#### Lendo o excel das meninas do INSPER"
   ]
  },
  {
   "cell_type": "code",
   "execution_count": 53,
   "metadata": {},
   "outputs": [],
   "source": [
    "insper = pd.read_excel('PESQUISA.xlsx', sheet_name = 3)"
   ]
  },
  {
   "cell_type": "code",
   "execution_count": 54,
   "metadata": {},
   "outputs": [],
   "source": [
    "insper = insper.drop('Qual é a distância da sua casa para a faculdade', 1)"
   ]
  },
  {
   "cell_type": "code",
   "execution_count": 55,
   "metadata": {},
   "outputs": [],
   "source": [
    "insper['Se \"Não\", qual?'] = insper['Se \"Não\", qual?'].fillna('Insper')\n",
    "insper = insper.rename(columns={\"Qual seu nome completo?\": \"NOME\", \"Qual semestre?\": \"SEMESTRE\", \"Idade\": \"IDADE\", \"Qual curso?\": \"Curso\", \"De onde você veio (cidade/estado)?\": \"ESTADO/CID\", \"Frequentou o Ensino Médio...\":\"TIPO_EM\", \"Qual o nome do seu colégio?\": \"NOME_EM\", 'Algum familiar trabalha na área de adm e/ou econo?': 'Familiar na área?', 'Se SIM na pergunta anterior, quais familiares?':'Quais Familiares?', 'Adm e/ou Econo foi sua primeira escolha?':'Seu curso foi sua 1a escolha?','Por que escolheu Administração/ Economia?': 'Por que escolheu este curso?'})\n",
    "semestre=[]\n",
    "\n",
    "for k in insper.SEMESTRE:\n",
    "    if k == \"2º Semestre\":\n",
    "        semestre.append(2)\n",
    "    elif k == \"3º Semestre\":\n",
    "        semestre.append(3)\n",
    "    elif k == \"4º Semstre\":\n",
    "        semestre.append(4)\n",
    "    elif k ==\"5º Semestre\":\n",
    "        semestre.append(5)\n",
    "    elif k ==\"6º semestre\":\n",
    "        semestre.append(6)\n",
    "    elif k == \"7º Semestre\":\n",
    "        semestre.append(7)\n",
    "    else:\n",
    "         semestre.append(8)\n",
    "            \n",
    "insper.SEMESTRE = semestre"
   ]
  },
  {
   "cell_type": "code",
   "execution_count": 56,
   "metadata": {},
   "outputs": [],
   "source": [
    "insper_idx=insper.set_index('NOME')"
   ]
  },
  {
   "cell_type": "code",
   "execution_count": 57,
   "metadata": {},
   "outputs": [],
   "source": [
    "insper_idx['Faz Engenharia?']='0'"
   ]
  },
  {
   "cell_type": "markdown",
   "metadata": {},
   "source": [
    "#### Juntando os dataframes"
   ]
  },
  {
   "cell_type": "markdown",
   "metadata": {},
   "source": [
    "# ANÁLISES"
   ]
  },
  {
   "cell_type": "markdown",
   "metadata": {},
   "source": [
    "## Analisamos primeiro as mulheres que fazem engenharia"
   ]
  },
  {
   "cell_type": "markdown",
   "metadata": {},
   "source": [
    "#### Primeiro vimos a distribuição da escolaridade de cada menina:"
   ]
  },
  {
   "cell_type": "code",
   "execution_count": 43,
   "metadata": {},
   "outputs": [
    {
     "data": {
      "image/png": "[encoded data removed]",
      "text/plain": [
       "<Figure size 432x288 with 1 Axes>"
      ]
     },
     "metadata": {},
     "output_type": "display_data"
    }
   ],
   "source": [
    "eng.TIPO_EM.value_counts().plot.bar()\n",
    "plt.title(\"Tipo de EM\");"
   ]
  },
  {
   "cell_type": "markdown",
   "metadata": {},
   "source": [
    "#### Se existia algum familiar que estuda/estudou engenharia"
   ]
  },
  {
   "cell_type": "code",
   "execution_count": 44,
   "metadata": {},
   "outputs": [
    {
     "data": {
      "image/png": "[encoded data removed]",
      "text/plain": [
       "<Figure size 432x288 with 1 Axes>"
      ]
     },
     "metadata": {},
     "output_type": "display_data"
    }
   ],
   "source": [
    "eng[\"Algum familiar trabalha na área de engenharia?\"].value_counts().plot.bar()\n",
    "plt.title(\"se tem familiares na engenharia\");"
   ]
  },
  {
   "cell_type": "markdown",
   "metadata": {},
   "source": [
    "#### Se houvesse um familiar, quem que seria:"
   ]
  },
  {
   "cell_type": "code",
   "execution_count": 48,
   "metadata": {},
   "outputs": [
    {
     "data": {
      "text/plain": [
       "Text(0.5,1,'Familiares na Engenharia')"
      ]
     },
     "execution_count": 48,
     "metadata": {},
     "output_type": "execute_result"
    },
    {
     "data": {
      "image/png": "[encoded data removed]",
      "text/plain": [
       "<Figure size 432x288 with 1 Axes>"
      ]
     },
     "metadata": {},
     "output_type": "display_data"
    }
   ],
   "source": [
    "familia =[]\n",
    "familia.append(maeL)\n",
    "familia.append(paiL)\n",
    "familia.append(irmaosL)\n",
    "familia.append(tioL)\n",
    "familia.append(padrastoL)\n",
    "familia.append(ninguemL)\n",
    "familia.append(avosL)\n",
    "familia.append(primosL)\n",
    "plt.hist(familia);\n",
    "plt.title('Familiares na Engenharia')"
   ]
  },
  {
   "cell_type": "markdown",
   "metadata": {},
   "source": [
    "#### Analisamos também a variação de que engenharia cada uma fazia"
   ]
  },
  {
   "cell_type": "code",
   "execution_count": 46,
   "metadata": {},
   "outputs": [
    {
     "data": {
      "image/png": "[encoded data removed]",
      "text/plain": [
       "<Figure size 432x288 with 1 Axes>"
      ]
     },
     "metadata": {},
     "output_type": "display_data"
    }
   ],
   "source": [
    "eng[\"TIPO_ENG\"].value_counts().plot.bar()\n",
    "plt.title(\"Qual tipo de engenharia\");"
   ]
  },
  {
   "cell_type": "markdown",
   "metadata": {},
   "source": [
    "#### Analisamos  de onde cada menina que faz engenharia veio"
   ]
  },
  {
   "cell_type": "code",
   "execution_count": 38,
   "metadata": {},
   "outputs": [
    {
     "data": {
      "image/png": "[encoded data removed]",
      "text/plain": [
       "<Figure size 432x288 with 1 Axes>"
      ]
     },
     "metadata": {},
     "output_type": "display_data"
    }
   ],
   "source": [
    "estados = tortas_es.idx[\"estado\"]\n",
    "estados.plot(kind=\"pie\", autopct=\"%.2f\", legend=False)\n",
    "plt.title(\"de onde cada uma venho\");"
   ]
  },
  {
   "cell_type": "markdown",
   "metadata": {},
   "source": [
    "A partir deste gráfico de torta vemos que a maioria das meninas são originalmente de São Paulo, com em segundo lugar Bahia."
   ]
  },
  {
   "cell_type": "markdown",
   "metadata": {},
   "source": [
    "## Ao analisar somente as meninas da engenharia, analisamos as meninas do INSPER (na qual inclui Engenharia, Administração e Economia)"
   ]
  },
  {
   "cell_type": "code",
   "execution_count": 49,
   "metadata": {},
   "outputs": [],
   "source": []
  },
  {
   "cell_type": "code",
   "execution_count": null,
   "metadata": {},
   "outputs": [],
   "source": []
  },
  {
   "cell_type": "markdown",
   "metadata": {},
   "source": [
    "# O QUE FALTA\n",
    "\n",
    "* FAZER NOSSA HIPOTESE"
   ]
  },
  {
   "cell_type": "code",
   "execution_count": null,
   "metadata": {},
   "outputs": [],
   "source": []
  },
  {
   "cell_type": "code",
   "execution_count": null,
   "metadata": {},
   "outputs": [],
   "source": []
  }
 ],
 "metadata": {
  "kernelspec": {
   "display_name": "Python 3",
   "language": "python",
   "name": "python3"
  },
  "language_info": {
   "codemirror_mode": {
    "name": "ipython",
    "version": 3
   },
   "file_extension": ".py",
   "mimetype": "text/x-python",
   "name": "python",
   "nbconvert_exporter": "python",
   "pygments_lexer": "ipython3",
   "version": "3.6.4"
  }
 },
 "nbformat": 4,
 "nbformat_minor": 2
}
