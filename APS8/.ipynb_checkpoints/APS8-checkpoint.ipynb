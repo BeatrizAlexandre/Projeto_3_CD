{
 "cells": [
  {
   "cell_type": "code",
<<<<<<< HEAD
   "execution_count": 34,
=======
   "execution_count": 20,
>>>>>>> c94fe3c4a89f64be4db63be9f49c038a5caecfe2
   "metadata": {},
   "outputs": [],
   "source": [
    "%matplotlib inline\n",
    "%reset -f\n",
    "\n",
    "\n",
    "import pandas as pd\n",
    "import numpy as np\n",
    "from scipy.stats import norm, probplot, t\n",
    "import statsmodels.api as sm\n",
    "import matplotlib.pyplot as plt\n",
    "from mpl_toolkits.mplot3d import Axes3D\n",
    "import matplotlib.pyplot as plt\n",
    "from math import sqrt\n",
    "\n"
   ]
  },
  {
   "cell_type": "markdown",
   "metadata": {},
   "source": [
    "# APS8 - Regressão e Intervalo de Confiança\n",
    "\n",
    "\n",
    "\n",
    "\n",
    "**Questão 1**\n",
    "\n",
    "*(Montgomery 6-1)*\n",
    "\n",
    "A indústria de *fast food* precisa selecionar materiais biodegradáveis para produzir embalagens mais sustentáveis. É desejável que o material tenha um baixo fator $\\kappa$ de condutividade térmico  (medido em W/mK). \n",
    "\n",
    "Uma abordagem para diminuir o $\\kappa$ é reduzir a densidade do material (medida em $g/cm^3$ )\n",
    "\n",
    "Assuma que é possível ajustar os dados por um modelo de regressão linear.\n",
    "\n",
    "\n",
    "| y: Condutividade termal (W/mK)| x: Densidade de produto (g/cm3)|\n",
    "|---|---|\n",
    "|0.0480| 0.1750|\n",
    "|0.0525| 0.2200|\n",
    "|0.0540| 0.2250|\n",
    "|0.0535| 0.2260|\n",
    "|0.0570| 0.2500|\n",
    "|0.0610| 0.2765|\n",
    "\n",
    "Linhas separadas:\n",
    "\n",
    "    condutividade = [0.0480, 0.0525, 0.0540, 0.0535, 0.0570, 0.0610]\n",
    "\n",
    "    densidade = [0.1750, 0.2200, 0.2250, 0.2260, 0.2500, 0.2765]\n",
    "\n",
    "Pede-se:\n",
    "\n",
    "**a.** Estime o modelo de regressão encontrando $\\hat{\\beta_0}$ e $\\hat{\\beta_1}$ usandos a fórmula abaixos. \n",
    "\n",
    "\n",
    "$$\\hat{\\beta_{0}} = \\bar{y} - \\hat{\\beta_1} \\bar{x}$$\n",
    "\n",
    "e\n",
    "\n",
    "$$\\hat{\\beta_1}= \\frac{\\sum\\limits_{i=1}^{n}(x_{i}-\\bar{x})(y_{i}-\\bar{y})}{\\sum\\limits_{i=1}^{n}(y_{i}-\\bar{y})^2} = \\frac{S_{xy}}{S_{xx}} $$\n"
   ]
  },
  {
   "cell_type": "markdown",
   "metadata": {},
   "source": [
    "\n",
    "**Dica:**  converta as listas em array do numpy. Desta forma **não vai precisar fazer loops.**\n",
    "\n",
    "    x = np.array(condutividade)\n",
    "    x_ = np.mean(x)\n"
   ]
  },
  {
   "cell_type": "code",
<<<<<<< HEAD
   "execution_count": 35,
=======
   "execution_count": 21,
>>>>>>> c94fe3c4a89f64be4db63be9f49c038a5caecfe2
   "metadata": {},
   "outputs": [
    {
     "name": "stdout",
     "output_type": "stream",
     "text": [
      "b0 é: 0.02\n",
      "b1 é: 0.13\n"
     ]
    }
   ],
   "source": [
    "import numpy as np\n",
    "import matplotlib.pyplot as plt\n",
    "\n",
    "densidade = [0.1750, 0.2200, 0.2250, 0.2260, 0.2500, 0.2765]\n",
    "x = np.array(densidade)\n",
    "xb = np.mean(x)\n",
    "\n",
    "condutividade = [0.0480, 0.0525, 0.0540, 0.0535, 0.0570, 0.0610]\n",
    "y = np.array(condutividade)\n",
    "yb= np.mean(y)\n",
    "\n",
    "## calcular sxx e sxy\n",
    "sxy = ((x-xb)*(y-yb)).sum()\n",
    "sxx = ((x-xb)**2).sum()\n",
    "b1 = sxy/sxx\n",
    "b0 = yb-b1*xb\n",
    "\n",
    "\n",
    "print(\"b0 é: {:.2f}\".format(b0))\n",
    "print (\"b1 é: {:.2f}\".format(b1))"
   ]
  },
  {
   "cell_type": "code",
<<<<<<< HEAD
   "execution_count": 36,
=======
   "execution_count": 22,
>>>>>>> c94fe3c4a89f64be4db63be9f49c038a5caecfe2
   "metadata": {},
   "outputs": [
    {
     "data": {
      "text/plain": [
<<<<<<< HEAD
       "<matplotlib.collections.PathCollection at 0x1a58a640080>"
      ]
     },
     "execution_count": 36,
=======
       "<matplotlib.collections.PathCollection at 0x2679379b048>"
      ]
     },
     "execution_count": 22,
>>>>>>> c94fe3c4a89f64be4db63be9f49c038a5caecfe2
     "metadata": {},
     "output_type": "execute_result"
    },
    {
     "data": {
      "image/png": "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\n",
      "text/plain": [
       "<Figure size 432x288 with 1 Axes>"
      ]
     },
     "metadata": {},
     "output_type": "display_data"
    }
   ],
   "source": [
    "x_v = np.linspace(x.min(), x.max(), 600)\n",
    "y_v = b0 + b1*x_v\n",
    "plt.plot(x_v, y_v, color = \"g\") # regressão linear\n",
    "plt.scatter(x, y) # dados"
   ]
  },
  {
   "cell_type": "markdown",
   "metadata": {},
   "source": [
    "\n",
    "Por exemplo, a linha abaixo calcula $(x_i - \\overline{x})^2$ para todo $x_i$ de uma vez:\n",
    "\n",
    "    (x - x_)**2    \n"
   ]
  },
  {
   "cell_type": "markdown",
   "metadata": {},
   "source": [
    "E a linha abaixo calcula $\\sum\\limits_{i=1}^{n}(x_{i}-\\bar{x})$:\n",
    "\n",
    "    np.sum((x - x_)**2)"
   ]
  },
  {
   "cell_type": "code",
<<<<<<< HEAD
   "execution_count": 37,
=======
   "execution_count": 23,
>>>>>>> c94fe3c4a89f64be4db63be9f49c038a5caecfe2
   "metadata": {},
   "outputs": [
    {
     "data": {
      "text/plain": [
       "0.0057188750000000035"
      ]
     },
<<<<<<< HEAD
     "execution_count": 37,
=======
     "execution_count": 23,
>>>>>>> c94fe3c4a89f64be4db63be9f49c038a5caecfe2
     "metadata": {},
     "output_type": "execute_result"
    }
   ],
   "source": [
    "x_ = np.mean(x)\n",
    "np.sum((x - x_)**2)"
   ]
  },
  {
   "cell_type": "markdown",
   "metadata": {},
   "source": [
    "**b.** Agora use a biblioteca `statsmodels` para encontrar $\\hat{\\beta_0}$ e $\\hat{\\beta_1}$. Escreva a equação que estima *Condutividade termal* em função da *Densidade do produto*"
   ]
  },
  {
   "cell_type": "code",
<<<<<<< HEAD
   "execution_count": 38,
=======
   "execution_count": 24,
>>>>>>> c94fe3c4a89f64be4db63be9f49c038a5caecfe2
   "metadata": {
    "scrolled": true
   },
   "outputs": [
    {
     "name": "stderr",
     "output_type": "stream",
     "text": [
      "C:\\Users\\Beatriz\\Anaconda3\\lib\\site-packages\\statsmodels\\stats\\stattools.py:72: ValueWarning: omni_normtest is not valid with less than 8 observations; 6 samples were given.\n",
      "  \"samples were given.\" % int(n), ValueWarning)\n"
     ]
    },
    {
     "data": {
      "text/html": [
       "<table class=\"simpletable\">\n",
       "<caption>OLS Regression Results</caption>\n",
       "<tr>\n",
       "  <th>Dep. Variable:</th>            <td>y</td>        <th>  R-squared:         </th> <td>   0.986</td>\n",
       "</tr>\n",
       "<tr>\n",
       "  <th>Model:</th>                   <td>OLS</td>       <th>  Adj. R-squared:    </th> <td>   0.982</td>\n",
       "</tr>\n",
       "<tr>\n",
       "  <th>Method:</th>             <td>Least Squares</td>  <th>  F-statistic:       </th> <td>   275.8</td>\n",
       "</tr>\n",
       "<tr>\n",
       "  <th>Date:</th>             <td>Thu, 08 Nov 2018</td> <th>  Prob (F-statistic):</th> <td>7.70e-05</td>\n",
       "</tr>\n",
       "<tr>\n",
<<<<<<< HEAD
       "  <th>Time:</th>                 <td>23:04:27</td>     <th>  Log-Likelihood:    </th> <td>  37.364</td>\n",
=======
       "  <th>Time:</th>                 <td>15:07:47</td>     <th>  Log-Likelihood:    </th> <td>  25.097</td>\n",
>>>>>>> c94fe3c4a89f64be4db63be9f49c038a5caecfe2
       "</tr>\n",
       "<tr>\n",
       "  <th>No. Observations:</th>      <td>     6</td>      <th>  AIC:               </th> <td>  -70.73</td>\n",
       "</tr>\n",
       "<tr>\n",
       "  <th>Df Residuals:</th>          <td>     4</td>      <th>  BIC:               </th> <td>  -71.14</td>\n",
       "</tr>\n",
       "<tr>\n",
       "  <th>Df Model:</th>              <td>     1</td>      <th>                     </th>     <td> </td>   \n",
       "</tr>\n",
       "<tr>\n",
       "  <th>Covariance Type:</th>      <td>nonrobust</td>    <th>                     </th>     <td> </td>   \n",
       "</tr>\n",
       "</table>\n",
       "<table class=\"simpletable\">\n",
       "<tr>\n",
       "    <td></td>       <th>coef</th>     <th>std err</th>      <th>t</th>      <th>P>|t|</th>  <th>[0.025</th>    <th>0.975]</th>  \n",
       "</tr>\n",
       "<tr>\n",
       "  <th>const</th> <td>    0.0249</td> <td>    0.002</td> <td>   13.959</td> <td> 0.000</td> <td>    0.020</td> <td>    0.030</td>\n",
       "</tr>\n",
       "<tr>\n",
       "  <th>x1</th>    <td>    0.1285</td> <td>    0.008</td> <td>   16.608</td> <td> 0.000</td> <td>    0.107</td> <td>    0.150</td>\n",
       "</tr>\n",
       "</table>\n",
       "<table class=\"simpletable\">\n",
       "<tr>\n",
       "  <th>Omnibus:</th>       <td>   nan</td> <th>  Durbin-Watson:     </th> <td>   2.411</td>\n",
       "</tr>\n",
       "<tr>\n",
       "  <th>Prob(Omnibus):</th> <td>   nan</td> <th>  Jarque-Bera (JB):  </th> <td>   0.541</td>\n",
       "</tr>\n",
       "<tr>\n",
       "  <th>Skew:</th>          <td>-0.191</td> <th>  Prob(JB):          </th> <td>   0.763</td>\n",
       "</tr>\n",
       "<tr>\n",
       "  <th>Kurtosis:</th>      <td> 1.579</td> <th>  Cond. No.          </th> <td>    34.1</td>\n",
       "</tr>\n",
       "</table><br/><br/>Warnings:<br/>[1] Standard Errors assume that the covariance matrix of the errors is correctly specified."
      ],
      "text/plain": [
       "<class 'statsmodels.iolib.summary.Summary'>\n",
       "\"\"\"\n",
       "                            OLS Regression Results                            \n",
       "==============================================================================\n",
       "Dep. Variable:                      y   R-squared:                       0.986\n",
       "Model:                            OLS   Adj. R-squared:                  0.982\n",
       "Method:                 Least Squares   F-statistic:                     275.8\n",
       "Date:                Thu, 08 Nov 2018   Prob (F-statistic):           7.70e-05\n",
<<<<<<< HEAD
       "Time:                        23:04:27   Log-Likelihood:                 37.364\n",
       "No. Observations:                   6   AIC:                            -70.73\n",
       "Df Residuals:                       4   BIC:                            -71.14\n",
=======
       "Time:                        15:07:47   Log-Likelihood:                 25.097\n",
       "No. Observations:                   6   AIC:                            -46.19\n",
       "Df Residuals:                       4   BIC:                            -46.61\n",
>>>>>>> c94fe3c4a89f64be4db63be9f49c038a5caecfe2
       "Df Model:                           1                                         \n",
       "Covariance Type:            nonrobust                                         \n",
       "==============================================================================\n",
       "                 coef    std err          t      P>|t|      [0.025      0.975]\n",
       "------------------------------------------------------------------------------\n",
       "const          0.0249      0.002     13.959      0.000       0.020       0.030\n",
       "x1             0.1285      0.008     16.608      0.000       0.107       0.150\n",
       "==============================================================================\n",
       "Omnibus:                          nan   Durbin-Watson:                   2.411\n",
       "Prob(Omnibus):                    nan   Jarque-Bera (JB):                0.541\n",
       "Skew:                          -0.191   Prob(JB):                        0.763\n",
       "Kurtosis:                       1.579   Cond. No.                         34.1\n",
       "==============================================================================\n",
       "\n",
       "Warnings:\n",
       "[1] Standard Errors assume that the covariance matrix of the errors is correctly specified.\n",
       "\"\"\""
      ]
     },
<<<<<<< HEAD
     "execution_count": 38,
=======
     "execution_count": 24,
>>>>>>> c94fe3c4a89f64be4db63be9f49c038a5caecfe2
     "metadata": {},
     "output_type": "execute_result"
    }
   ],
   "source": [
    "import statsmodels.api as sm\n",
    "\n",
    "xc = sm.add_constant(x)\n",
    "modelo = sm.OLS(y, xc)\n",
    "resultados = modelo.fit()\n",
    "resultados.summary()"
   ]
  },
  {
   "cell_type": "code",
<<<<<<< HEAD
   "execution_count": 39,
=======
   "execution_count": 25,
>>>>>>> c94fe3c4a89f64be4db63be9f49c038a5caecfe2
   "metadata": {
    "scrolled": true
   },
   "outputs": [
    {
     "name": "stdout",
     "output_type": "stream",
     "text": [
      "o b0, (coef, constant) é -0.1880\n",
      "o b0, (coef, x1) é 7,6696\n"
     ]
    },
    {
     "data": {
      "text/plain": [
<<<<<<< HEAD
       "<matplotlib.collections.PathCollection at 0x1a58ab65588>"
      ]
     },
     "execution_count": 39,
=======
       "<matplotlib.collections.PathCollection at 0x26794219ba8>"
      ]
     },
     "execution_count": 25,
>>>>>>> c94fe3c4a89f64be4db63be9f49c038a5caecfe2
     "metadata": {},
     "output_type": "execute_result"
    },
    {
     "data": {
      "image/png": "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\n",
      "text/plain": [
       "<Figure size 432x288 with 1 Axes>"
      ]
     },
     "metadata": {},
     "output_type": "display_data"
    }
   ],
   "source": [
    "print(\"o b0, (coef, constant) é -0.1880\")\n",
    "print (\"o b0, (coef, x1) é 7,6696\")\n",
    "\n",
    "### VERIFICAR SE É ISSO MESMO\n",
    "x_vc = sm.add_constant(x_v)\n",
    "y_vc = resultados.predict(x_vc)\n",
    "plt.plot(x_v, y_vc, color=\"g\") # regressão\n",
    "plt.scatter (x, y) # dados"
   ]
  },
  {
   "cell_type": "markdown",
   "metadata": {},
   "source": [
    "**c.** Calcule $SS_E$ (SQRes) e encontre a variância dos resíduos. Veja o formulário que foi fornecido.\n",
    "\n",
    "$$SQRes=SS_{E}=\\sum\\limits^{n}_{i=1}(y_i-\\hat{y}_i)^2=\\sum\\limits_{i=1}^{n}\\epsilon^2_{i}$$"
   ]
  },
  {
   "cell_type": "code",
<<<<<<< HEAD
   "execution_count": 40,
=======
   "execution_count": 26,
>>>>>>> c94fe3c4a89f64be4db63be9f49c038a5caecfe2
   "metadata": {},
   "outputs": [
    {
     "data": {
      "text/plain": [
       "1.369824338994421e-06"
      ]
     },
<<<<<<< HEAD
     "execution_count": 40,
=======
     "execution_count": 26,
>>>>>>> c94fe3c4a89f64be4db63be9f49c038a5caecfe2
     "metadata": {},
     "output_type": "execute_result"
    }
   ],
   "source": [
    "e = y-(b0+b1*x)\n",
    "SQRes = (e**2).sum()\n",
    "SQRes"
   ]
  },
  {
   "cell_type": "markdown",
   "metadata": {},
   "source": [
    "\n",
    "**d.** Demonstre que $SQT = SQRes + SQReg$, ou, em outra notação,  que $SS_T = SS_R + SS_E$ . Ofereça uma explicação sucinta do que são SQT, SQRes e SQReg.\n",
    "\n",
    "$$SQReg=SS_{R}=(\\hat{y}_i-\\bar{y})^2$$\n",
    "\n",
    "$$SQT=SS_{T}=\\sum\\limits^{n}_{i=1}(y_i-\\bar{y})^2$$"
   ]
  },
  {
   "cell_type": "code",
<<<<<<< HEAD
   "execution_count": 41,
=======
   "execution_count": 27,
>>>>>>> c94fe3c4a89f64be4db63be9f49c038a5caecfe2
   "metadata": {},
   "outputs": [
    {
     "name": "stdout",
     "output_type": "stream",
     "text": [
      "9.583333333333332e-05\n",
      "9.583333333333343e-05\n"
     ]
    }
   ],
   "source": [
    "yi = b0 + b1*x\n",
    "SQReg = ((yi-yb)**2).sum()\n",
    "SQT = ((y-yb)**2).sum()\n",
    "print (SQT)\n",
    "print (SQReg + SQRes)"
   ]
  },
  {
   "cell_type": "markdown",
   "metadata": {},
   "source": [
    "\n",
    "**e.**  Calcule o coeficiente de determinação $R^2$ . \n",
    "\n",
    "Faça um teste $t$ da significância estatística de $\\hat{\\beta_0}$ e $\\hat{\\beta_1}$ para um $\\alpha=5\\%$ . Deixe claras as hipóteses e forneça os níveis descritivos (*p-values*) dos resultados. \n",
    "\n",
    "**Dica:** \n",
    "\n",
    "Os valores $P > |t|$ que são dados no resultado da regressão são estes *p-values*\n",
    "\n",
    "**e.** Para $x = 0.0540$ quanto vale o resíduo do modelo de regressão? Quanto da variação é explicada pela regressão?\n",
    "\n"
   ]
  },
  {
   "cell_type": "code",
<<<<<<< HEAD
   "execution_count": 42,
=======
   "execution_count": 28,
>>>>>>> c94fe3c4a89f64be4db63be9f49c038a5caecfe2
   "metadata": {},
   "outputs": [
    {
     "data": {
      "text/plain": [
       "0.014293819189505896"
      ]
     },
<<<<<<< HEAD
     "execution_count": 42,
=======
     "execution_count": 28,
>>>>>>> c94fe3c4a89f64be4db63be9f49c038a5caecfe2
     "metadata": {},
     "output_type": "execute_result"
    }
   ],
   "source": [
    "r2=1-(SQReg/SQT) \n",
    "alpha = 0.05\n",
    "x=0.054\n",
    "r2"
   ]
  },
  {
   "cell_type": "code",
   "execution_count": 52,
   "metadata": {},
   "outputs": [
    {
     "name": "stdout",
     "output_type": "stream",
     "text": [
      "B0:0.00015275075503038554\n",
      "B1:7.698549062835654e-05\n"
     ]
    }
   ],
   "source": [
    "pvalue_b0= resultados.pvalues[0]\n",
    "pvalue_b1= resultados.pvalues[1]\n",
    "print('B0:{0}'.format(pvalue_b0))\n",
    "print('B1:{0}'.format(pvalue_b1))"
   ]
  },
  {
   "cell_type": "markdown",
   "metadata": {},
   "source": [
    "**Questão 2.**\n",
    "\n",
    "*(Montgomery 12-9)*\n",
    "\n",
    "Os dados abaixo são provenientes de uma pesquisa de satisfação aplicada em um hospital (**também estão disponíveis em [um arquivo CSV](tabela_pacientes.csv)**). \n",
    "\n",
    "|Observation| Age| Severity| Surg_Med| Anxiety| Satisfaction|\n",
    "|---|---|---|---|---|---|\n",
    "|1|55|50| 0| 2.1| 68|\n",
    "|2|46|24| 1| 2.8| 77|\n",
    "|3|30|46| 1| 3.3| 96|\n",
    "|4|35|48| 1| 4.5| 80|\n",
    "|5|59|58| 0| 2.0| 43|\n",
    "|6|61|60| 0| 5.1| 44|\n",
    "|7|74|65| 1| 5.5| 26|\n",
    "|8|38|42| 1| 3.2| 88|\n",
    "|9 |27|42| 0| 3.1| 75|\n",
    "|10|51|50 |1 |2.4 |57 |\n",
    "|11|53|38 |1 |2.2 |56|\n",
    "|12|41|30 |0 |2.1 |88|\n",
    "|13|37|31 |0 |1.9 |88|\n",
    "|14|24|34 |0 |3.1 |102|\n",
    "|15|42|30 |0 |3.0 |88|\n",
    "|16|50|48 |1 |4.2 |70|\n",
    "|17|58|61 |1 |4.6 |52|\n",
    "|18|60|71 |1 |5.3 |43|\n",
    "|19|62|62 |0 |7.2 |46|\n",
    "|20|68|38 |0 |7.8 |56|\n",
    "|21|70|41 |1 |7.0 |59|\n",
    "|22|79|66 |1 |6.2 |26|\n",
    "|23|63|31 |1 |4.1 |52|\n",
    "|24|39|42 |0 |3.5 |83|\n",
    "|25|49|40 |1 |2.1 |75|\n",
    "\n",
    "As variáveis são:\n",
    "\n",
    "* `Age` - a idade do paciente\n",
    "* `Severity` - quão severa é a condição. Valores mais altos indicam condição mais preocupante\n",
    "* `Surg-Med` - Indica se é um paciente de visita ao médico `0` ou cirurgia `1`\n",
    "* `Anxiety` - Índice de ansiedade. Valores mais elevados indicam maior ansiedade\n",
    "\n",
    "Pede-se:"
   ]
  },
  {
   "cell_type": "code",
<<<<<<< HEAD
   "execution_count": 43,
=======
   "execution_count": 29,
>>>>>>> c94fe3c4a89f64be4db63be9f49c038a5caecfe2
   "metadata": {},
   "outputs": [],
   "source": [
    "dados=pd.read_csv('tabela_pacientes.csv')"
   ]
  },
  {
   "cell_type": "code",
<<<<<<< HEAD
   "execution_count": 44,
=======
   "execution_count": 30,
>>>>>>> c94fe3c4a89f64be4db63be9f49c038a5caecfe2
   "metadata": {},
   "outputs": [],
   "source": [
    "### Função utilitária para fazer a regressão com constante adicionada\n",
    "def regress(X,Y):\n",
    "    X_cp = sm.add_constant(X)\n",
    "    model = sm.OLS(Y,X_cp)\n",
    "    results = model.fit()\n",
    "    return results\n"
   ]
  },
  {
   "cell_type": "markdown",
   "metadata": {},
   "source": [
    "**a.** Encontre um modelo de regressão linear múltipla capaz de prever `Satisfaction` a partir da idade, severidade da condição e índice de ansiedade. Escreva a equação."
   ]
  },
  {
   "cell_type": "code",
<<<<<<< HEAD
   "execution_count": 45,
=======
   "execution_count": 31,
>>>>>>> c94fe3c4a89f64be4db63be9f49c038a5caecfe2
   "metadata": {},
   "outputs": [
    {
     "data": {
      "text/html": [
       "<table class=\"simpletable\">\n",
       "<caption>OLS Regression Results</caption>\n",
       "<tr>\n",
       "  <th>Dep. Variable:</th>      <td>Satisfaction</td>   <th>  R-squared:         </th> <td>   0.904</td>\n",
       "</tr>\n",
       "<tr>\n",
       "  <th>Model:</th>                   <td>OLS</td>       <th>  Adj. R-squared:    </th> <td>   0.890</td>\n",
       "</tr>\n",
       "<tr>\n",
       "  <th>Method:</th>             <td>Least Squares</td>  <th>  F-statistic:       </th> <td>   65.55</td>\n",
       "</tr>\n",
       "<tr>\n",
       "  <th>Date:</th>             <td>Thu, 08 Nov 2018</td> <th>  Prob (F-statistic):</th> <td>7.85e-11</td>\n",
       "</tr>\n",
       "<tr>\n",
<<<<<<< HEAD
       "  <th>Time:</th>                 <td>23:04:34</td>     <th>  Log-Likelihood:    </th> <td> -82.074</td>\n",
=======
       "  <th>Time:</th>                 <td>15:07:47</td>     <th>  Log-Likelihood:    </th> <td> -82.074</td>\n",
>>>>>>> c94fe3c4a89f64be4db63be9f49c038a5caecfe2
       "</tr>\n",
       "<tr>\n",
       "  <th>No. Observations:</th>      <td>    25</td>      <th>  AIC:               </th> <td>   172.1</td>\n",
       "</tr>\n",
       "<tr>\n",
       "  <th>Df Residuals:</th>          <td>    21</td>      <th>  BIC:               </th> <td>   177.0</td>\n",
       "</tr>\n",
       "<tr>\n",
       "  <th>Df Model:</th>              <td>     3</td>      <th>                     </th>     <td> </td>   \n",
       "</tr>\n",
       "<tr>\n",
       "  <th>Covariance Type:</th>      <td>nonrobust</td>    <th>                     </th>     <td> </td>   \n",
       "</tr>\n",
       "</table>\n",
       "<table class=\"simpletable\">\n",
       "<tr>\n",
       "      <td></td>        <th>coef</th>     <th>std err</th>      <th>t</th>      <th>P>|t|</th>  <th>[0.025</th>    <th>0.975]</th>  \n",
       "</tr>\n",
       "<tr>\n",
       "  <th>const</th>    <td>  143.8952</td> <td>    5.898</td> <td>   24.399</td> <td> 0.000</td> <td>  131.631</td> <td>  156.160</td>\n",
       "</tr>\n",
       "<tr>\n",
       "  <th>Age</th>      <td>   -1.1135</td> <td>    0.133</td> <td>   -8.398</td> <td> 0.000</td> <td>   -1.389</td> <td>   -0.838</td>\n",
       "</tr>\n",
       "<tr>\n",
       "  <th>Severity</th> <td>   -0.5849</td> <td>    0.132</td> <td>   -4.430</td> <td> 0.000</td> <td>   -0.860</td> <td>   -0.310</td>\n",
       "</tr>\n",
       "<tr>\n",
       "  <th>Anxiety</th>  <td>    1.2962</td> <td>    1.056</td> <td>    1.227</td> <td> 0.233</td> <td>   -0.900</td> <td>    3.492</td>\n",
       "</tr>\n",
       "</table>\n",
       "<table class=\"simpletable\">\n",
       "<tr>\n",
       "  <th>Omnibus:</th>       <td> 4.204</td> <th>  Durbin-Watson:     </th> <td>   2.105</td>\n",
       "</tr>\n",
       "<tr>\n",
       "  <th>Prob(Omnibus):</th> <td> 0.122</td> <th>  Jarque-Bera (JB):  </th> <td>   2.444</td>\n",
       "</tr>\n",
       "<tr>\n",
       "  <th>Skew:</th>          <td>-0.672</td> <th>  Prob(JB):          </th> <td>   0.295</td>\n",
       "</tr>\n",
       "<tr>\n",
       "  <th>Kurtosis:</th>      <td> 3.733</td> <th>  Cond. No.          </th> <td>    296.</td>\n",
       "</tr>\n",
       "</table><br/><br/>Warnings:<br/>[1] Standard Errors assume that the covariance matrix of the errors is correctly specified."
      ],
      "text/plain": [
       "<class 'statsmodels.iolib.summary.Summary'>\n",
       "\"\"\"\n",
       "                            OLS Regression Results                            \n",
       "==============================================================================\n",
       "Dep. Variable:           Satisfaction   R-squared:                       0.904\n",
       "Model:                            OLS   Adj. R-squared:                  0.890\n",
       "Method:                 Least Squares   F-statistic:                     65.55\n",
       "Date:                Thu, 08 Nov 2018   Prob (F-statistic):           7.85e-11\n",
<<<<<<< HEAD
       "Time:                        23:04:34   Log-Likelihood:                -82.074\n",
=======
       "Time:                        15:07:47   Log-Likelihood:                -82.074\n",
>>>>>>> c94fe3c4a89f64be4db63be9f49c038a5caecfe2
       "No. Observations:                  25   AIC:                             172.1\n",
       "Df Residuals:                      21   BIC:                             177.0\n",
       "Df Model:                           3                                         \n",
       "Covariance Type:            nonrobust                                         \n",
       "==============================================================================\n",
       "                 coef    std err          t      P>|t|      [0.025      0.975]\n",
       "------------------------------------------------------------------------------\n",
       "const        143.8952      5.898     24.399      0.000     131.631     156.160\n",
       "Age           -1.1135      0.133     -8.398      0.000      -1.389      -0.838\n",
       "Severity      -0.5849      0.132     -4.430      0.000      -0.860      -0.310\n",
       "Anxiety        1.2962      1.056      1.227      0.233      -0.900       3.492\n",
       "==============================================================================\n",
       "Omnibus:                        4.204   Durbin-Watson:                   2.105\n",
       "Prob(Omnibus):                  0.122   Jarque-Bera (JB):                2.444\n",
       "Skew:                          -0.672   Prob(JB):                        0.295\n",
       "Kurtosis:                       3.733   Cond. No.                         296.\n",
       "==============================================================================\n",
       "\n",
       "Warnings:\n",
       "[1] Standard Errors assume that the covariance matrix of the errors is correctly specified.\n",
       "\"\"\""
      ]
     },
<<<<<<< HEAD
     "execution_count": 45,
=======
     "execution_count": 31,
>>>>>>> c94fe3c4a89f64be4db63be9f49c038a5caecfe2
     "metadata": {},
     "output_type": "execute_result"
    }
   ],
   "source": [
    "qt = dados[['Age','Severity','Anxiety']]\n",
    "qtx = qt.copy()\n",
    "reg = regress(qtx, dados.Satisfaction)\n",
    "reg.summary()"
   ]
  },
  {
   "cell_type": "markdown",
   "metadata": {},
   "source": [
    "**b.** Interprete os valores $P > |t|$ e a $Prob(\\text{F-statistic})$ indique o que dizem a respeito da qualidade da regressão. Qual a hipótese nula que cada um testa?"
   ]
  },
  {
   "cell_type": "markdown",
   "metadata": {},
   "source": [
    "Ao analisar $Prob(\\text{F-statistic})$ que tem um valor muito próximo de zero, podendo aproximar o mesmo para zero. A partir disso rejeitamos H0, e agora vamos analisar cada caso:\n",
    "\n",
    "\n",
    "###### Para Age:    \n",
    "\n",
    "\\begin{equation*}\n",
    "   H_0:\\mbox{Não tem relação com Satisfaction} \\rightarrow \\mu_B=\\mu_A \\rightarrow \\mu_B-\\mu_A=0\n",
    "\\end{equation*}   \n",
    "\\begin{equation*}\n",
    "   H_a:\\mbox{Tem relação com Satisfaction} \\rightarrow \\mu_B\\neq\\mu_A \\rightarrow \\mu_B-\\mu_A\\neq0\n",
    "\\end{equation*}\n",
    "\n",
    "\n",
    "Ao analisar o $P > |t|$ percebe-se que este é igual a zero, logo podemos \n",
    "\n",
    "\n",
    "\n",
    "###### Para Severity:    \n",
    "\n",
    "\\begin{equation*}\n",
    "   H_0:\\mbox{Não tem relação com Satisfaction} \\rightarrow \\mu_B=\\mu_A \\rightarrow \\mu_B-\\mu_A=0\n",
    "\\end{equation*}   \n",
    "\\begin{equation*}\n",
    "   H_a:\\mbox{Tem relação com Satisfaction} \\rightarrow \\mu_B\\neq\\mu_A \\rightarrow \\mu_B-\\mu_A\\neq0\n",
    "\\end{equation*}\n",
    "\n",
    "\n",
    "Analisando os valores de $P > |t|$ e $Prob(\\text{F-statistic})$, os quais são iguais ao valores de $P > |t|$ e $Prob(\\text{F-statistic})$ para Age, então, assim como para o Age, podemos rejeitar H0. E a partir da rejeição pode-se afirmar que temos uma boa qualidade de regressão.\n",
    "\n",
    "\n",
    "###### Para Anxiety:    \n",
    "\n",
    "\\begin{equation*}\n",
    "   H_0:\\mbox{Não tem relação com Satisfaction} \\rightarrow \\mu_B=\\mu_A \\rightarrow \\mu_B-\\mu_A=0\n",
    "\\end{equation*}   \n",
    "\\begin{equation*}\n",
    "   H_a:\\mbox{Tem relação com Satisfaction} \\rightarrow \\mu_B\\neq\\mu_A \\rightarrow \\mu_B-\\mu_A\\neq0\n",
    "\\end{equation*}\n",
    "\n",
    "\n",
    "Diferente dos valores de $P > |t|$ para Age e para Serenity, o valor de $P > |t|$ é diferente de 0, sendo o mesmo 0.233, o que equivale a 23%. Com esse valor de $P > |t|$ não podemos rejeitar H0."
   ]
  },
  {
   "cell_type": "markdown",
   "metadata": {},
   "source": [
    "**c.** Por que é preciso supor que os resíduos do modelo de regressão seguem uma distribuição normal?\n"
   ]
  },
  {
   "cell_type": "code",
<<<<<<< HEAD
   "execution_count": 46,
   "metadata": {},
   "outputs": [
    {
     "data": {
      "text/plain": [
       "Text(0.5,1,'Probability Plot Age')"
      ]
     },
     "execution_count": 46,
     "metadata": {},
     "output_type": "execute_result"
    },
    {
     "data": {
      "image/png": "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\n",
      "text/plain": [
       "<Figure size 432x288 with 1 Axes>"
      ]
     },
     "metadata": {},
     "output_type": "display_data"
    }
   ],
   "source": [
    "probplot(dados['Age'], dist=\"norm\", plot=plt);\n",
    "plt.title('Probability Plot Age')"
   ]
  },
  {
   "cell_type": "code",
   "execution_count": 27,
   "metadata": {},
   "outputs": [
    {
     "data": {
      "text/plain": [
       "Text(0.5,1,'Probability Plot Severity')"
      ]
     },
     "execution_count": 27,
     "metadata": {},
     "output_type": "execute_result"
    },
    {
     "data": {
      "image/png": "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\n",
      "text/plain": [
       "<Figure size 432x288 with 1 Axes>"
      ]
     },
     "metadata": {},
     "output_type": "display_data"
    }
   ],
   "source": [
    "probplot(dados['Severity'], dist=\"norm\", plot=plt,);\n",
    "plt.title('Probability Plot Severity')"
   ]
  },
  {
   "cell_type": "code",
   "execution_count": 25,
   "metadata": {},
   "outputs": [
    {
     "data": {
      "text/plain": [
       "Text(0.5,1,'Probability Plot Anxiety')"
      ]
     },
     "execution_count": 25,
     "metadata": {},
     "output_type": "execute_result"
    },
    {
     "data": {
      "image/png": "iVBORw0KGgoAAAANSUhEUgAAAXwAAAEWCAYAAABliCz2AAAABHNCSVQICAgIfAhkiAAAAAlwSFlzAAALEgAACxIB0t1+/AAAADl0RVh0U29mdHdhcmUAbWF0cGxvdGxpYiB2ZXJzaW9uIDIuMi4yLCBodHRwOi8vbWF0cGxvdGxpYi5vcmcvhp/UCwAAIABJREFUeJzt3XmYVOWVx/HvD5QgmmgUYoxKE5fBLREFjdvEdeKSuOCSaFrjGiYJ4pI4QceIihqXqFFRJqJJXEDjuI6jGHUEdULcQEVBRJIIqDjarpGAIHLmj/eWFE13V3VTW3f9Ps9TT2236p6+4um33/vecxQRmJlZ19et2gGYmVllOOGbmdUJJ3wzszrhhG9mViec8M3M6oQTvplZnXDCt7KSdI6ksR387DGS/tTG+w9IOrqlbSXNl7RRR/bbzhgflXRCufezsiT9u6Trqx2HVZcTvq1A0mxJC7Ok+Zak30tao9pxNRcR+0bEja28t0ZE/A1A0g2Szu/ofkpxPCT1kxSSVili22Oybb/b0Zibi4hfRkRRv5g6yy8xaz8nfGvN/hGxBrAtsB3wi+YbKKmXf0MFj0cJHQ28l92blUy9/M9qHRQRbwAPAFvBZ6O/CyRNAhYAG0n6iqR7Jb0n6S+Sftjsa3pKuk3SR5KelbR17g1Jp0v6a/beS5IGN/usJI2S9KGklyXtmfdGqyPRbIS8iaQhQCPw82yE/t+S/k3Snc22HyXpivYej2bf0U3SLyTNkfS2pJskrZm9/Xh2/0EWx46txN0A7AoMAfaWtG7ee7tJel3Sz7Lvf1PSsdl7PSQ9L2lY9ry7pEmSRmTPl5tak7SDpD9L+kDSVEm7Za9fAPwzcHUW59WSrpF0WbM4/1vSKYWOl9WYiPDNt+VuwGxgr+zxhsB04Lzs+aPAXGBLYBVgVeAxYDTQExgANAF7ZtufA3wCHJptexrwKrBq9v5hwFdIg4/vAf8A1sveOwZYApyaffZ7wIfA2nmxnJC37Z/yfoYANske3wCcn/feetl+1sqerwK8DQzs4PHIxXAc8BdgI2AN4C7g5uy9fllMqxQ49mcBT2ePXwR+mvfebtnxGJkdj/1Iv3S/mL2/FfA+sDlwJvAk0D3vv8PY7PH6wLvZ57sB/5I979P8Z8qebw/MA7plz3tn+1232v9WfWvfzSN8a809kj4A/kRK6L/Me++GiJgeEUuALwO7AMMj4uOIeB64Hjgqb/spEXFHRHwCXE76xbADQETcHhHzImJpRNwGzCIlmJy3gSsi4pPs/ZnAt1fmB4uIN0kj7sOyl/YB3omIKW18rK3jkdMIXB4Rf4uI+cAZwOHFzNvn+QFwS/b4Flac1vkEGJkdj/HAfKB/9nNNA84H7ib9Yj0qIj5tYR9HAuMjYnx23B8GJpN+AawgIp4m/aLN/XV1OPBoRLzVjp/LaoATvrXmoIhYKyIaIuInEbEw773X8h5/BXgvIj7Ke20OaRS5wvYRsRR4Pfsckn6QTUV8kCXUrUgjyJw3IiK/wt+c3GdX0o2kxEd2f3OB7ds6HjlfyeLLmUP662HdFrZdgaSdga8Cf8heugX4mqQBeZu9m/2izVlA+msi50bSXxPjI2JWK7tqAA7LHfPsuO9C+sunNe09XlaDnPCtI/IT8DxgbUmfz3utL/BG3vMNcw+yk7wbAPOy+errgBOBdSJiLWAaoLzPri8p/3nfbJ8djTfnHuDrkrYCvgOMa+d3tmQeKZnm9CVNwbzVSgzNHU362Z+X9H/AU9nrP2hHDKOB+0jz/7u0ss1rpKmmtfJuq0fERdn7LcU6FjgwO/+yOen4WSfjhG8rJSJeA/4MXCipp6SvA8ezfAIdKOngbGrjFGARaX55dVJyaQLITkA2Pxn6JeAkSatKOoyUbMa3M8y3SPPq+XF/DNxBGkU/HRFz2/mdLbkVOFXSV7Nlm78EbstG5E3A0uZx5EjqCXyXdLJ2QN5tGNBY5HLOo4CBpPMZJwE3trJ8dCywv6S9s5O7PbMTwhtk77d0vF4HniGN7O9s5S8cq3FO+FYKR5CmEeaR5o/PzuaFc/6LdML1fdLc/sHZHPRLwGXAE6Qk8zVgUrPvfgrYFHgHuAA4NCLebWd8vwW2yKYv8kemN2b7LNX0xO+y73qcdGL6Y1LCJiIWkOKflMWxQ7PPHgQsBG6KiP/L3bLYu5POM7RKUl/gCuAHETE/Im4hzcv/uvm22S/pA4F/J/0ieg34N5blgyuBQyW9L+mqvI+W+nhZhWn56VGz+pElyZeBL0fE36sdT62T9E3SXwf9snMx1sl4hG91KTuX8FPgD072hUlaFTgZuN7JvvNqz3Ixsy5B0uqkKaQ5FJgqMZC0OWl6aCpwbJXDsZXgKR0zszrhKR0zszpRU1M6vXv3jn79+lU7DDOzTmPKlCnvRESfYratqYTfr18/Jk+eXO0wzMw6DUlzCm+VlHVKR9KpkqZLmibp1uziEjMzq4KyJXxJ65Ou9hsUEVuRLh45vFz7MzOztpX7pO0qwGrZZeG9aH8NFDMzK5GyJfxIjSIuJdVOfxP4MCIear6dpCGSJkua3NTUVK5wzMzqXjmndL5IqtfxVVLZ2NUlHdl8u4gYExGDImJQnz5FnWg2M7MOKOeUzl7AqxHRlDW+uAvYqYz7MzPrVMaNg379oFu3dD+uFEW621DOZZlzgR0k9SJVAdyTdHm2mVndGzcOhgyBBQvS8zlz0nOAxsby7LOcc/hPkeqNP0vqzdkNGFOu/ZmZdSZnnrks2ecsWJBeL5eyXngVEWcDZ5dzH2ZmndHcVlrutPZ6KbiWjplZFfTt277XS8EJ38ysCi64AHr1Wv61Xr3S6+XihG9mVgWNjTBmDDQ0gJTux4wp3wlbqLHiaWZm9aSxsbwJvjmP8M3M6oQTvplZnXDCNzOrE074ZmZ1wgnfzKxOOOGbmdUJJ3wzszrhhG9mVi0RcOONMHRoRXbnhG9mVg3TpsGuu8Ixx8Bzz8E//lH2XTrhm1ldqnTzkc989BGcdhoMGAAvvQTXXw9/+hOsvnrZd+3SCmZWd6rRfIQIuOMOOOUUmDcPfvhDuPBCWGedMu1wRR7hm1ndqXjzkVdegb33hu9+F9ZdF554IlVKq2CyByd8M6tDFWs+smABnHUWfO1r8NRTMGoUPPMM7LBDiXdUHCd8M6s7FWk+ct99sOWWcP75aWQ/cyaceCJ0717CnbRP2RK+pP6Sns+7/V3SKeXan5l1baU8yVrW5iOzZ8OBB8L++6cvnTgRbr4ZvvzlEnz5yinbSduImAkMAJDUHXgDuLtc+zOzrqvUJ1lznznzzDSN07dvSvYrdcJ20SK47LI0opfgkkvSCdpVV12JLy0tRUT5dyJ9Czg7InZua7tBgwbF5MmTyx6PmXUu/fqlJN9cQ0MaUFfdI4+ki6dmzoRDDoFf/xo23LAiu5Y0JSIGFbNtpebwDwdubekNSUMkTZY0uampqULhmFlnUrGTrO01bx4cfjjstRcsWQIPPJCWXlYo2bdX2RO+pB7AAcDtLb0fEWMiYlBEDOrTp0+5wzGzTqgiJ1nbY8mSNIrfbDO45x4455x05ew++1QpoOJUYoS/L/BsRLxVgX2ZWRdU1pOs7TVpEgwcCD/9KfzzP8P06XD22dCzZxWCaZ9KJPwjaGU6x8ysGI2N6TqlhoZ0PrShIT2vZANwmprguONgl13g/ffhrrvS0suNN65gECunrCdtJfUCXgM2iogPC23vk7ZmVnM+/TTVuznjjFQH52c/SxdTVaD2TTHac9K2rLV0ImIBUNlrh83MSmXKFPjxj9PVsbvtBtdcA1tsUe2oOsxX2pqZNff++2mZ5XbbpaVA48bBhAmdOtmDE76Z2TIRcNNN0L8//OY3MGxYWlv//e+nkwednMsjm5lBWlb5k5/A//5vKm720EOpZn0X4hG+mdW3lhqSTJrU5ZI9eIRvZvUq15Dk1FPhjTeq0pCk0jzCN7P6k9+QpE+fqjUkqTQnfDOrHwsXrtiQZPLkqjUkqTRP6ZhZfbjvPjjpJHj1VTjySPjVr2qiRn0leYRvZl3bnDlw0EGpIclqq9VUQ5JKc8I3s65p0SL45S9h883h4Yfh4ovhuefSFbN1ylM6Ztb1VLEhSS3zCN/Muo5O1pCk0pzwzazz66QNSSrNCd/MKmbcuNSftlu3dD9uXAm+NL8hyS67dKqGJJXmhG9mFTFuHAwZkhbNRKT7IUNWIuk3NcGxxy7fkOT++ztVQ5JKc8I3s4o480xYsGD51xYsSK+3y6efwrXXpoqWY8fC8OEwYwYMHtwlKlqWk1fpmFlFzJ3bvtdb1MUaklSaR/hmVhF9+7bv9eV00YYklVbWhC9pLUl3SHpZ0gxJO5Zzf2ZWuy64AHr1Wv61Xr3S663q4g1JKq3cUzpXAn+MiEMl9QB6FfqAmXVNjY3p/swz0yC9b9+U7HOvr6B5Q5IHH4RttqlYvF1R2RK+pC8A3wSOAYiIxcDicu3PzGpfY2MbCT7no4/g3HPhiitgzTVTQ5Jjj01rOW2llPMIbgQ0Ab+X9Jyk6yWt3nwjSUMkTZY0uampqYzhmFlNi4Dbb08XT112WUryM2fC8cc72ZdIOY/iKsC2wH9ExDbAP4DTm28UEWMiYlBEDOrTp08ZwzGzmpXfkGTddVNDkuuug969qx1Zl1LOhP868HpEPJU9v4P0C8DMLGnekOSqq+Dpp+umIUmllW0OPyL+T9JrkvpHxExgT+Clcu3PzDqZ/IYkjY1w6aV1WaO+ksq9SmcYMC5bofM34Ngy78/Mat3s2XDyyXDvvalW/cSJdV2jvpLKmvAj4nlgUDn3YWadxKJF6WTs+eenNfQXXwynnAI9elQ7srrh0gpmVn75DUkOPjiVMi7qElsrJa91MrPymTcPjjhiWUOS8ePhzjud7KvECd/MSm/JknTh1Gabwd13L2tIsu++1Y6srnlKx8xKa9KkVBLhhRdSgh81yjXqa4RH+GZWGk1NcNxxbkhSw5zwzaxDcu0KV9Gn/Ps617Loq/3h5pvdkKSGeUrHzNot165wswVT+E9+zPbvPcNj3Xbj7xdew/4/d436WtWuEb6kL0r6ermCMbPO4eLT3+eSBUN5hu3oy1y+zzh2WzqBYaOd7GtZwRG+pEeBA7JtnweaJD0WET8tc2xmVmsi4Oab+Z/XT2Md3mUUwxjBSP7OmkA72xVaxRUzwl8zIv4OHAz8PiIGAnuVNywzqznTpsGuu8LRR/N6j40ZxGRO4crPkj14eX2tKybhryJpPeC7wH1ljsfMqih3IrZbt3Q/bhypIclpp8GAAfDSS3D99cy4fhKv9Fq++1TBdoVWdcWctB0JPAhMiohnJG0EzCpvWGZWabkTsQsWpOdz5gQPHHcHg1c/lV7vvwE//CFceCGssw6NAN3a0a7QaoIiotoxfGbQoEExefLkaodhVpf69YM5c9LjTXmFqzmRb/Ew03psw1aPjXaN+holaUpEFFWksuCUjqR/kvSIpGnZ869L+sXKBmlmtWXuXOjJQkZyFi/yNb7BU5zIKAYsfsbJvosoZg7/OuAM4BOAiHgBOLycQZlZ5R3T+z6msyVncT63cxj9mck1nMgGDd2rHZqVSDEJv1dEPN3stSXlCMbMqmDOHDjoIH7XtD8fazV2YyJHMZa3+LJPxHYxxST8dyRtDASApEOBN8salZmVVIurbxYtgl/+MnWdevhhuPhipv7+OWY37IYEDQ0wZoxPxHYlBU/aZqtyxgA7Ae8DrwJHRsTsUgfjk7Zmpdd89Q3Afp97hFvWHsqab7ohSWfXnpO2BZdlRsTfgL0krQ50i4iP2hHIbOAj4FNgSbFBmVnpnHnmsmS/HvO4jJ9xxKI/MLtpY9YcP9416utIMaUVRjR7DkBEjCxyH7tHxDvtD83MSmHuXOjOEk7kakYygh4s5mzO4ZIlw1m4b89qh2cVVMyFV//Ie9wT+A4wozzhmFmpDf7SJEa89RO25gUeYB+GMYq/sgkNDdWOzCqtmCmdy/KfS7oUuLfI7w/gIUkBXBsRY5pvIGkIMASgr+cQzUqnqQmGD+fOt37Pa9qQg+NO7mYwIK++qVMdaYDSC9ioyG13johtgX2BoZK+2XyDiBgTEYMiYlCfPn06EI6ZLWfpUrj2Wui/rCHJpOtm8GzDwUjy6ps6Vswc/otkSzKB7kAfUn2dgiJiXnb/tqS7ge2BxzsWqpkVNGVK6if79NOpsuXo0bDFFhwOHH58tYOzaitmDv87eY+XAG9FRMELr/JX9WSPv0WRvyjMrJ0++AB+8YuU4L/0JRg7Fr7/fbcYtOW0mvAlrZ09bL4M8wuSiIj3Cnz3usDd2aqeVYBbIuKPHY7UzFaUNSTh3/4N3nkHTjwRzjsP1lyz8Get7rQ1wp9CmsppaYgQFJjHz9bvb93x0MysTdOmwdCh8Pjj8I1vwB//CNtsU/hzVrdaTfgR8dVKBmJmRZo/H849F664Ar7wBbjuOjjuuFQ3wawNxczhI+mLwKakdfgARIRPvppVUgTccQeceiq88QaccEJqSNK7d7Ujs06imHr4J5BW1jwInJvdn1PesMxsObNmwT77wHe/C336wJ//nEb2vXu3XBjNrAXF/A14MrAdMCcidge2AZrKGpWZJQsXwogRsNVW8OSTcNVV8MwzsOOOwLLCaHPmpD8A5sxJz530rSXFJPyPI+JjAEmfi4iXgf7lDcvMuO8+2HLLtOrm0ENh5kwYNgxWWTYTm18YLWfBgvS6WXPFJPzXJa0F3AM8LOm/gHnlDcusjmUNSdh/fz5c1JMj1p1At1vH0W+HL68wcp87t+WvaO11q2/F1NIZnD08R9JEYE3A6+nNSm3RIrjsMjj/fJB47nsXsfu9p/Lhwh7AsukaWFYWoW/fZY3H87kslbWk1RG+pPslNWZXyQIQEY9FxL0Rsbgy4ZnViUcega23TnMx++wDM2Yw+MnhnyX7nObTNRdcAL16Lf9VLoxmrWlrSmcMqazCbEm3STpIUo82tjez9po3D444AvbaCz75BO6/H+66C/r2LWq6prExFUJraMBtCa2gYlocrgYcABwO7AiMB26NiIdLHYxbHFrdWLIErr46rcBZvBiGD4fTT4fVVvtsk379Wp6uaWiA2bMrFqnVuPa0OCx40jYiFkbEbdlc/rdIyzI9h2/WUZMmwcCB6QKqnXdOJRLOPXe5ZA+errHSK+bCq3UlDZM0ibRS5yFgYNkjM+tqmppSCYRddoH33oM774Tx42GTTVrc3NM1VmptVcv8IXAEac39XcDPI2JSpQIz6zKWLk1XxZ5xBnz0Efz853DWWbDGGgU/2tjoBG+l09YIfyfgImDDiBjmZG/WAVOmpKtif/Qj+PrXYepUuPjiz5K9yyJYJbVVLfPYSgZi1qUU0ZAkVxYhd6VsS+vszUrJ9VTNSikCbrop9ZP9j/9IpRBmzkwZvFn3KZdFsEpzwjcrlWnTYLfd4OijYaONYPJkxm1/Jf22XrPFKRuXRbBKa+tK27XbulUySLOaNn9+ajG4zTYp6V93HUyaxLiXtmmzkmVr5Q9cFsHKpa0R/hRgcnbfBLwCzMoeTyl/aGY1LteQZPPN4dJL4Zhj0vTNCSdAt24Fp2y8zt4qrdWEHxFfjYiNSA1P9o+I3hGxDqncwl3F7kBSd0nPSbpv5cM1qxG5hiSHHZY6TuU1JMkpNGXjdfZWacXM4W8XEeNzTyLiAWDXduzjZGBGewMzq0kFGpLkK2bKprExlUlYujTdO9lbORWT8N+R9AtJ/SQ1SDoTeLeYL5e0AfBt4PqVCdKsJtx//7KGJIcdBi+/vEJDknyesrFaU0zCPwLoA9yd3fpkrxXjCuDnwNLWNpA0RNJkSZObmtw50WrQnDkweDB85zvQsydMmJDW1a+3Xpsf85SN1ZqC1TI/21BaIyLmF/3F0neA/SLiJ5J2A06LiO+09RlXy7SasngxXH45jByZMvaIEangWQ9XCbfaUdJqmZJ2kvQS8FL2fGtJo4v47p2BAyTNBv4A7CFpbDFBmVXdhAmpIckZZ3zWkIThw53srVMrZkrn18DeZPP2ETEV+GahD0XEGRGxQUT0I9XSnxARR65ErGbl9+abqQTCnnumEX5eQxKzzq6oK20j4rVmL31ahljMqmfJErjiilQS4a674Oyz00VU++1X7cjMSqZgE3PgNUk7AZG1ODyJdi6zjIhHgUfbHZ1ZJfz5z/DjH8MLL6Tpm1GjWq1Rb9aZFTPC/xEwFFgfeB0YkD0369yamuD441PXqSIakph1dm2O8CV1B46KCC8ks65j6VK4/vrUQ/ajj9LJ2LPOgtVXr3ZkZmXV5gg/Ij4FDqxQLGbll2tI8q//uqwhyUUXOdlbXShmSmeSpKsl/bOkbXO3skdmVkoffAAnngjbb58upBo7FiZOhC22qHZkZhVTTMLfCdgSGAlclt0uLWdQZiUTATffvKwhydChqSRCCw1JOsItCq0zKbhKJyJ2r0QgZiU3fTr85Cfw+OPwjW/AH/+YataXiFsUWmdTzJW260r6raQHsudbSDq+/KGZdVCuIcmAAWkt/ZgxaellCZM9uEWhdT7FTOncQKqJ/5Xs+SvAKeUKyKzDItLSyuYNSX74wzTnUmJuUWidTTH/F/SOiP8kq3gZEUvwlbZWa2bNgn33hUMPbbUhSam5RaF1NsUk/H9IWgcIAEk7AB+WNSqzYi1cmMogbLUVPPEEXHllqw1JSs317q2zKSbh/xS4F9hY0iTgJmBYWaMyK0auIcnIkWlk//LLcNJJrTYk6Yi2VuG43r11NkXVw5e0CtAfEDAzIj4pRzCuh29FmTMHTjkF7rkHNtsMRo+G3Uu/mKz5KhxII3gndaslJamHL+ng3A04gJTw/wnYP3vNrLIWL05XxW6+OTz0UHo8depKJfu2RvBehWNdTVt/++6f3X+JdPHVhOz57qTKl3eVLyyzZiZMWHbR1ODBqZTxSp4dLbSO3qtwrKtpdYQfEcdGxLGkk7VbRMQhEXEI6apbs8ooY0OSQiN4r8KxrqaYk7b9IuLNvOdvkaZ2zMpnyZK04ibXkGTEiBYbkhQqbdDW+4VG8F6FY11ORLR5A64mXXh1DHA08AAwqtDnOnIbOHBgmMWkSRFbbx0BEXvvHTFrVoubjR0b0atX2ix369UrvV7M+w0Ny7+XuzU0LL+PhoYIKd3nPmtWK4DJUWSOLXaVzmCW9bF9PCLuLscvH6/SqXNNTalG/e9+BxtskObpDz641SJn/fqleffmGhpg9uzC73sVjnUFJVmlk31Rd0n/ExF3R8Sp2a2oZC+pp6SnJU2VNF3SucV8zurQ0qUpy/bvDzfdlOrgzJgBhxzCuFvU4SmZQu97Hb3VmzavUImITyUtkLRmRLT36tpFwB4RMV/SqsCfJD0QEU92OFrrep59NvWTffpp2HVXuOaadDEVhVfR9O3b8gg+d1K10Pu573GCt3pRzEnbj4EXs4qZV+VuhT6UTS/Nz56umt0Kzx9Zfcg1JNluu+Ubkmy5bBFYoVU0hU6q+qSr2fKKuQb9/uzWbllP3CnAJsA1EfFUC9sMAYYA9PV6t64vIiX3006Dd95J9erPOw/WWmuFTYuZkoH0C2Du3DRyv+CCZa8Xet+s3hQ8aSupJylhB/DXiPi43TuR1gLuBoZFxLTWtvNJ2y6ueUOS0aNh29a7ZRY66WpmpSutsIqkS4DXgRuBscBrki7J5uSLFhEfkK7O3ac9n7MuopWGJONmbNvmGnpPyZiVVltz+L8C1ga+GhEDI2IbYGNgLYroaSupTzayR9JqwF7AyysfsnUazRuSHH30Zw1Jxt3ajSFD0gg+YtkJWVejNCufVqd0JM0C/imabZDNy78cEZu2+cXS10l/GXQn/WL5z4gY2dZnPKXThcyaBcOGwYMPwtZbpwbieTXqPV1jVhrtmdJp66RtNE/22YufSiq42iYiXgBK20TUat/ChamK5UUXwec+ly6eGjp0hRr1LkxmVnltTem8JOkHzV+UdCSemrGWjB+fOk/lGpLMnAknn9xiQxIXJjOrvLZG+EOBuyQdR1paGcB2wGrA4ArEZp1F84YkEyYUrFF/wQUtlzXwCVmz8mk14UfEG8A3JO1BKoks4IGIeKRSwVmNW7wYLr88jeilNI1z6qnQo0fBj3qNvFnlFVU8rVJ80rYTmTgxrakvYUMSM2u/khVPM1tBriHJHnuUvCGJmZWXE74Vp8iGJGZWu4qppWP17oknUkXLqVNhn31g1CjYZJNqR2Vm7eQRvrXunXfg+ONhp53g3XfTVbPjxxeV7Au1HjSzyvMI31a0dClcfz2ccQb8/e+pDs6IEbDGGkV9vFAdezOrDo/wbXnPPptG9P/6r/C1r8Hzz8MllxSd7KFwHXszqw4nfEvyG5LMng0337xCQ5JiuWyCWW1ywq93uYYk/funAme5tfVHHtlq8/BCXDbBrDY54dez6dNTCYSjjkpnVp95Jq3AaaH7VHu4jr1ZbXLCr0f5DUlefDEVmX/iiTa7T+UUs/rGdezNapNX6dSTiHTR1CmnwOuvpyWXF10EvXsX9fH2rL5pbHSCN6s1HuHXoJVZw97qZ2fNgn33TWWL11kHJk1KSy979y56f159Y9bJRUTN3AYOHBj1buzYiF69ItJwPN169Uqvd+Sza6+2IKYOHhHRo0fE5z8fceWVEZ980qH9Sctvl7tJJTwAZtYuwOQoMse6WmaNWZnWf80/uy/jGcUwNuZvqeDZpZfCeut1eH9uS2hWe2qiWqakDSVNlDRD0nRJJ5drX9VWyjICK7OGPbfNhszlTg5mPN9mMT3Yk0dSUM2SfXv359U3Zp1bOefwlwA/i4jNgR2AoZK2KOP+qiJ3InPOnDTBkTuR2dGkvzJr2DfecDHDuYgZbM7ePMhwLmJrpvLXhj1Ksj+vvjHr5Iqd+1nZG/BfwL+0tU1nnMNvaGh5XruhoWPf1+E5/AkT4oOvbBYBcSeDY0PmFPXZlTlnYGbVRzvm8CuV7PsBc4EvtPDeEGAyMLlv377t/mHHjk3JVUr3lU5U5TiR2a6fad68iO9/P+10o41iwmn3t/t4VPsYmlnHtSfhl/2kraQ1gMfIV2zSAAANE0lEQVSACyLirra2be9J2+brwiHNKVdymqFqJzKXLIFrrklVLBctgtNPh+HDYbXVyrhTM6s1NXHSNgtkVeBOYFyhZN8RtbAuvConMp94AgYNShdQ7bhj6jx1zjlO9mbWpnKu0hHwW2BGRFxejn3UQlXGip7IfOcdOOGEZQ1J7rgDHnjA3afMrCjlHOHvDBwF7CHp+exW0gaotVKVsbExTd8sXZruS57sly5Nv0X694cbb0x1cGbMgEMO6XBFSzOrP2WrpRMRfwLKmo0uuKDlOfwutS782WdTyeKnnoJdd03z9h2oUW9m1qlr6XTpdeEffADDhpWkIYmZGXSBapldripjRFp+dNpp0NSURvfnnbfSNerNzDp9wu9Spk+HoUPhscdg++1h/PiiatSbmRWjU0/pdBnz58PPf96hhiRmZsXyCL+aYuUakpiZtYdH+NXyl7/Afvu12JDEzKwcnPArbeHCdFXsVlulJH/llTB5crqYysysjDylU0njx6elln9rvSGJmVm5eIRfCXPnwsEHw7e/DT16wCOtNyQxMysXJ/xyWrwYLr4YNt8cHnwQLrwQpk6FPVpvSGJmVi6e0imXiRPTmvoZM+Cgg+CKK9KlwGZmVeIRfqm9+Wa69HePPeDjj+G+++Duu53szazqnPBLZckSuOoq2GyzVLZ4xIh05ey3v13tyMzMAE/plMaTT8KPfwzPPw977w2jRsGmm1Y7KjOz5XiEvzJyDUl23DEVOrv99tSQxMnezGqQE35HLF0K1123fEOSl19OV826IYmZ1ShP6bRXfkOSb34TRo92jXoz6xQ8wi9WfkOSV1+Fm26CRx91sjezTqOcTcx/J+ltSdPKtY+KiICxY9Pqm9Gj0+h+5kw46ihP35hZp1LOEf4NwD5l/P7ymz4ddt89JfeGBnjmmbQCx92nzKwTKlvCj4jHgffK9f1lNX8+DB+eGpK88AJce60bkphZp1f1k7aShgBDAPr27VvdYJo3JDnuuNSQpE+f6sZlZlYCVT9pGxFjImJQRAzqU83Emt+QZO21U6363/7Wyd7MuoyqJ/yqa96Q5IorYMoUNyQxsy6n6lM6VZXfkOSII+Cyy1yj3sy6rHIuy7wVeALoL+l1SceXa1/t1lJDkltucbI3sy6tbCP8iDiiXN/dYYsXw69/DSNHphO0F14IP/1pSvpmZl1c/UzpuCGJmdW5rn/S1g1JzMyArpzw3ZDEzGw5XXNK54knUs0bNyQxM/tM1xrh5xqS7LSTG5KYmTXTNRK+G5KYmRXU+ad03n8f9t3XDUnMzAro/Al/rbVgk03Skssjj/SI3sysFZ0/4UupQYmZmbWpa8zhm5lZQU74ZmZ1wgnfzKxOOOGbmdUJJ3wzszrhhG9mViec8M3M6oQTvplZnVBEVDuGz0hqAuYU2Kw38E4FwumIWo4Naju+Wo4NHN/KqOXYoLbjKya2hojoU8yX1VTCL4akyRExqNpxtKSWY4Pajq+WYwPHtzJqOTao7fhKHZundMzM6oQTvplZneiMCX9MtQNoQy3HBrUdXy3HBo5vZdRybFDb8ZU0tk43h29mZh3TGUf4ZmbWAU74ZmZ1ouYTvqRfSXpZ0guS7pa0Vivb7SNppqS/SDq9QrEdJmm6pKWSWl06JWm2pBclPS9pciVia2d81Th2a0t6WNKs7P6LrWz3aXbcnpd0bwXiavNYSPqcpNuy95+S1K/cMbUjtmMkNeUdrxMqGNvvJL0taVor70vSVVnsL0jatlKxFRnfbpI+zDt2IyoY24aSJkqakf3/enIL25Tm+EVETd+AbwGrZI8vBi5uYZvuwF+BjYAewFRgiwrEtjnQH3gUGNTGdrOB3lU4dgXjq+KxuwQ4PXt8ekv/XbP35lfweBU8FsBPgN9kjw8Hbquh2I4Brq70v7Ns398EtgWmtfL+fsADgIAdgKdqLL7dgPuqdOzWA7bNHn8eeKWF/7YlOX41P8KPiIciYkn29ElggxY22x74S0T8LSIWA38ADqxAbDMiYma599NRRcZXlWOX7ePG7PGNwEEV2GchxRyL/LjvAPaUKtJIuVr/nYoSEY8D77WxyYHATZE8Cawlab3KRFdUfFUTEW9GxLPZ44+AGcD6zTYryfGr+YTfzHGk33LNrQ+8lvf8dVY8YNUUwEOSpkgaUu1gmqnWsVs3It6E9A8e+FIr2/WUNFnSk5LK/UuhmGPx2TbZQORDYJ0yx1VsbACHZH/y3yFpwwrEVaxa/38UYEdJUyU9IGnLagSQTRFuAzzV7K2SHL+aaGIu6X+AL7fw1pkR8V/ZNmcCS4BxLX1FC6+VZL1pMbEVYeeImCfpS8DDkl7ORhy1EF9Vjl07vqZvduw2AiZIejEi/lqK+FpQzLEo2/EqoJj9/jdwa0QskvQj0l8ie5Q9suJU67gV61lSTZr5kvYD7gE2rWQAktYA7gROiYi/N3+7hY+0+/jVRMKPiL3ael/S0cB3gD0jm9Bq5nUgfzSzATCvErEV+R3zsvu3Jd1N+vO8JAm/BPFV5dhJekvSehHxZvan6dutfEfu2P1N0qOk0U+5En4xxyK3zeuSVgHWpDJTBQVji4h3855eRzrnVSvK9u+sFPITbESMlzRaUu+IqEhRNUmrkpL9uIi4q4VNSnL8an5KR9I+wHDggIhY0MpmzwCbSvqqpB6kk2llX9FRDEmrS/p87jHpJHSLKwWqpFrH7l7g6Ozx0cAKf41I+qKkz2WPewM7Ay+VMaZijkV+3IcCE1oZhFQ8tmZzugeQ5oJrxb3AD7LVJjsAH+am9GqBpC/nzsVI2p6UG99t+1Ml27eA3wIzIuLyVjYrzfGrxlnpdp7B/gtp7ur57JZbIfEVYHyzs9ivkEZ/Z1YotsGk37yLgLeAB5vHRlpVMTW7Ta9UbMXGV8Vjtw7wCDAru187e30QcH32eCfgxezYvQgcX4G4VjgWwEjSgAOgJ3B79u/yaWCjCv73LBTbhdm/sanARGCzCsZ2K/Am8En2b+544EfAj7L3BVyTxf4ibaxqq1J8J+YduyeBnSoY2y6k6ZkX8vLcfuU4fi6tYGZWJ2p+SsfMzErDCd/MrE444ZuZ1QknfDOzOuGEb2ZWJ5zwreQkrZNXdfD/JL2RPf5AUjnX0bcUy4Dsysnc8wNaqjRZ5HfNzq4HqLisEuZX8p5fL2mLasdlnYsTvpVcRLwbEQMiYgDwG+DX2eMBwNJS7y+74rU1A0hrmnOx3RsRF5U6hgo4hnT9BAARcUJEVPSXp3V+TvhWad0lXZfV/X5I0moAkjaW9MeswNz/Stose71B0iNZQbBHJPXNXr9B0uWSJgIXZ1c0/07SM5Kek3RgdkXqSOB72V8Y38tGyldn37GuUo+Fqdltp+z1e7I4phdT7E7SsZJekfRY9rPlvv8GSYfmbTc/u18j+1meVeqTcGD2ej+lmujLHZ/sOwYB47KfYzVJj6qFHgeSjpT0dLbdtZK6Z7cbJE3L9nfqSvz3s07MCd8qbVPgmojYEvgAOCR7fQwwLCIGAqcBo7PXryaVhf06qXDeVXnf9U/AXhHxM1JBtgkRsR2wO/ArYFVgBKlm/YCIuK1ZLFcBj0XE1qRa6dOz14/L4hgEnCSp1WqYWTmDc0llH/4F2KKIY/AxMDgits1ivSx3WX9Lxyci7gAmA43Zz7GwlVg2B75HKtY3APgUaCT9lbN+RGwVEV8Dfl9EjNYF1UTxNKsrr0bE89njKUA/pSqBOwG3L8t7fC673xE4OHt8M6lxSs7tEfFp9vhbwAGSTsue9wT6FohlD+AHANn3fJi9fpKkwdnjDUlJuLW6Kt8AHo2IJgBJt5F+EbVFwC8lfZM0xbU+sG723grHp8B35dsTGAg8kx3H1UhF6f4b2EjSKOB+4KF2fKd1IU74VmmL8h5/SkpK3YAPslFpIfm1QP6R91ik0fByDV8kfaM9wUnaDdgL2DEiFihV6OzZjpjyLSH7KzobwffIXm8E+gADI+ITSbPz9tHS8Sk6fODGiDhjhTekrYG9gaHAd0m9JazOeErHqi5SadpXJR0Gn/Xv3Dp7+8+kypCQEuWfWvmaB4FhuakRSdtkr39EahvXkkeAH2fbd5f0BVK54/ezZL8ZqZ1cW54CdstWJq0KHJb33mzSiBtSx6JVs8drAm9nyX53oKHAPgr9HPk/z6FKfRdyfYMbshU83SLiTuAs0vSV1SEnfKsVjcDxknJVRXPt+04CjpX0AnAUsEKD58x5pIT6glKj6vOy1ycCW+RO2jb7zMnA7pJeJE2fbAn8EVgl2995pMqJrYpUovYc4Angf0iNNHKuA3aV9DRp6if3F8k4YJBSQ/tG4OW29pG5AfhN7qRtK7G8BPyC1F3tBeBhUr/U9YFHJT2ffc8KfwFYfXC1TLMSknQMqXTtidWOxaw5j/DNzOqER/hmZnXCI3wzszrhhG9mViec8M3M6oQTvplZnXDCNzOrE/8PDraCsuPR4VcAAAAASUVORK5CYII=\n",
      "text/plain": [
       "<Figure size 432x288 with 1 Axes>"
      ]
     },
     "metadata": {},
     "output_type": "display_data"
    }
   ],
   "source": [
    "probplot(dados['Anxiety'], dist=\"norm\", plot=plt,);\n",
    "plt.title('Probability Plot Anxiety')"
   ]
  },
  {
   "cell_type": "markdown",
=======
   "execution_count": null,
>>>>>>> c94fe3c4a89f64be4db63be9f49c038a5caecfe2
   "metadata": {},
   "outputs": [],
   "source": []
  },
  {
   "cell_type": "markdown",
   "metadata": {},
   "source": [
    "**d.** O que dizem os testes $Pr(Omnibus)$ e $Pr(JB)$ sobre a normalidade dos resíduos neste caso?\n"
   ]
  },
  {
   "cell_type": "code",
   "execution_count": null,
   "metadata": {},
   "outputs": [],
   "source": []
  },
  {
   "cell_type": "markdown",
   "metadata": {},
   "source": [
    "   **Questão 3**\n",
    "\n",
    "*(Montgomery 8-34)*\n",
    "\n",
    "Um artigo no *Journal of Composite Materials* (Dec. 1989, V. 23, p. 1200) descreve o efeito de delaminação na frequência natural de vibração de vigas feitas de materiais compósitos laminados. Cinco de tais vigas foram submetidas a cargas mecânicas, e as frequências encontradas (em hertz) foram as seguintes:\n",
    "\n",
    "`230.66,  233.05,  232.58, 229.48, 232.58`\n",
    "\n",
    "Pede-se:\n",
    "\n",
    "**a.** Verifique se podemos considerar a distribuição de frequências naturais normal. (Dica: *probplot*)\n",
    "\n",
    "**b.** Crie um intervalo de confiança de 95% para a média das frequências naturais.\n",
    "\n",
    "\n"
   ]
  },
  {
   "cell_type": "code",
   "execution_count": 36,
   "metadata": {},
   "outputs": [],
   "source": [
    "freq_nat=[230.66,  233.05,  232.58, 229.48, 232.58]"
   ]
  },
  {
   "cell_type": "code",
   "execution_count": 37,
   "metadata": {},
   "outputs": [
    {
     "data": {
      "text/plain": [
       "((array([-1.12899754, -0.48565271,  0.        ,  0.48565271,  1.12899754]),\n",
       "  array([229.48, 230.66, 232.58, 232.58, 233.05])),\n",
       " (1.6428315647972442, 231.67000000000002, 0.9324814697235373))"
      ]
     },
     "execution_count": 37,
     "metadata": {},
     "output_type": "execute_result"
    },
    {
     "data": {
      "image/png": "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\n",
      "text/plain": [
       "<Figure size 432x288 with 1 Axes>"
      ]
     },
     "metadata": {},
     "output_type": "display_data"
    }
   ],
   "source": [
    "probplot(freq_nat, dist=\"norm\", plot=plt)"
   ]
  },
  {
   "cell_type": "markdown",
   "metadata": {},
   "source": [
    "$IC(\\mu, \\gamma) = [ \\overline{X} - t_{\\gamma/2}^{n-1} \\frac{s}{\\sqrt{n}}; \\overline{X} + t_{\\gamma/2}^{n-1} \\frac{s}{\\sqrt{n}} ]$\n"
   ]
  },
  {
   "cell_type": "code",
   "execution_count": 38,
   "metadata": {},
   "outputs": [
    {
     "name": "stdout",
     "output_type": "stream",
     "text": [
      "os intervalos de confiança é 233.57108449507473 e 229.7689155049253\n"
     ]
    }
   ],
   "source": [
    "n = len(freq_nat)\n",
    "t975 = t.ppf(0.5 + 0.95/2, df=n-1)\n",
    "#calculando o s\n",
    "freqO = np.mean(freq_nat)\n",
    "s = np.std(freq_nat, ddof = 1)\n",
    "I = freqO -((t975)*(s/sqrt(n)))\n",
    "C = freqO +((t975)*(s/sqrt(n)))\n",
    "\n",
    "print (\"os intervalos de confiança é {0} e {1}\".format(C,I))"
   ]
  },
  {
   "cell_type": "markdown",
   "metadata": {},
   "source": [
    "**Questão 4**\n",
    "\n",
    "*(Montgomery 8-35)*\n",
    "\n",
    "A agência governamental de meteorologia do governo australiano forneceu os valores de precipitação média para o período 1983-2002 ( [http://www.bom.gov.au/climate/change/rain03.txt](http://www.bom.gov.au/climate/change/rain03.txt) )\n",
    "\n",
    "    499.2, 555.2, 398.8, 391.9, 453.4, 459.8, 483.7, 417.6, 469.2,\n",
    "    452.4, 499.3, 340.6, 522.8, 469.9, 527.2, 565.5, 584.1, 727.3,\n",
    "    558.6, 338.6\n",
    "\n",
    "Pede-se:\n",
    "\n",
    "**a.** Pode-se considerar os níveis de precipitação como vindo de uma distribuição normal?\n",
    "\n",
    "**b.** Sabemos $\\sigma$ ? \n",
    "\n",
    "**c.** Construa um intervalo de confiança de $95\\%$ para a precipitação média anual de chuvas.\n"
   ]
  },
  {
   "cell_type": "code",
   "execution_count": 34,
   "metadata": {},
   "outputs": [
    {
     "data": {
      "image/png": "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\n",
      "text/plain": [
       "<Figure size 432x288 with 1 Axes>"
      ]
     },
     "metadata": {},
     "output_type": "display_data"
    }
   ],
   "source": [
    "precipitacao = [499.2, 555.2, 398.8, 391.9, 453.4, 459.8, 483.7, 417.6, 469.2,\n",
    "452.4, 499.3, 340.6, 522.8, 469.9, 527.2, 565.5, 584.1, 727.3,\n",
    "558.6, 338.6]\n",
    "\n",
    "probplot(precipitacao, dist=\"norm\", plot=plt);"
   ]
  },
  {
   "cell_type": "code",
   "execution_count": 35,
   "metadata": {},
   "outputs": [
    {
     "data": {
      "text/plain": [
       "90.33871627322772"
      ]
     },
     "execution_count": 35,
     "metadata": {},
     "output_type": "execute_result"
    }
   ],
   "source": [
    "# não é possível saber\n",
    "s = np.std(precipitacao, ddof = 1)\n",
    "s"
   ]
  },
  {
   "cell_type": "code",
   "execution_count": null,
   "metadata": {},
   "outputs": [],
   "source": []
  },
  {
   "cell_type": "code",
   "execution_count": null,
   "metadata": {},
   "outputs": [],
   "source": []
  },
  {
   "cell_type": "code",
   "execution_count": null,
   "metadata": {},
   "outputs": [],
   "source": []
  },
  {
   "cell_type": "code",
   "execution_count": null,
   "metadata": {},
   "outputs": [],
   "source": []
  },
  {
   "cell_type": "code",
   "execution_count": null,
   "metadata": {},
   "outputs": [],
   "source": []
  },
  {
   "cell_type": "code",
   "execution_count": null,
   "metadata": {},
   "outputs": [],
   "source": []
  },
  {
   "cell_type": "code",
   "execution_count": null,
   "metadata": {},
   "outputs": [],
   "source": []
  },
  {
   "cell_type": "code",
   "execution_count": null,
   "metadata": {},
   "outputs": [],
   "source": []
  },
  {
   "cell_type": "code",
   "execution_count": null,
   "metadata": {},
   "outputs": [],
   "source": []
  },
  {
   "cell_type": "code",
   "execution_count": null,
   "metadata": {},
   "outputs": [],
   "source": []
  },
  {
   "cell_type": "code",
   "execution_count": null,
   "metadata": {},
   "outputs": [],
   "source": []
  },
  {
   "cell_type": "code",
   "execution_count": null,
   "metadata": {},
   "outputs": [],
   "source": []
  },
  {
   "cell_type": "code",
   "execution_count": null,
   "metadata": {},
   "outputs": [],
   "source": []
  },
  {
   "cell_type": "code",
   "execution_count": null,
   "metadata": {},
   "outputs": [],
   "source": []
  },
  {
   "cell_type": "code",
   "execution_count": null,
   "metadata": {},
   "outputs": [],
   "source": []
  }
 ],
 "metadata": {
  "kernelspec": {
   "display_name": "Python 3",
   "language": "python",
   "name": "python3"
  },
  "language_info": {
   "codemirror_mode": {
    "name": "ipython",
    "version": 3
   },
   "file_extension": ".py",
   "mimetype": "text/x-python",
   "name": "python",
   "nbconvert_exporter": "python",
   "pygments_lexer": "ipython3",
   "version": "3.6.5"
  }
 },
 "nbformat": 4,
 "nbformat_minor": 2
}
