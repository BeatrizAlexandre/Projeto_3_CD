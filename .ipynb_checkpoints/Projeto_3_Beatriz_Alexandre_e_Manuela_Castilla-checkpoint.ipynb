{
 "cells": [
  {
   "cell_type": "code",
   "execution_count": 33,
   "metadata": {},
   "outputs": [],
   "source": [
    "import pandas as pd\n",
    "import matplotlib\n",
    "import matplotlib.pyplot as plt\n",
    "import matplotlib as mpl  \n",
    "import seaborn as sns\n",
    "import numpy as np\n",
    "import itertools\n",
    "from scipy import stats\n",
    "from emoji import UNICODE_EMOJI"
   ]
  },
  {
   "cell_type": "markdown",
   "metadata": {},
   "source": [
    "# Ler Arquivo Excel e colocar em um DataFrame"
   ]
  },
  {
   "cell_type": "markdown",
   "metadata": {},
   "source": [
    "## PRIMEIRO SHEET : meninas na engenharia insper"
   ]
  },
  {
   "cell_type": "markdown",
   "metadata": {},
   "source": [
    "Lendo arquivo Excel"
   ]
  },
  {
   "cell_type": "code",
   "execution_count": 34,
   "metadata": {},
   "outputs": [],
   "source": [
    "eng_insper = pd.read_excel('PESQUISA.xlsx', sheet_name = 0)"
   ]
  },
  {
   "cell_type": "markdown",
   "metadata": {},
   "source": [
    "Hipóteses"
   ]
  },
  {
   "cell_type": "markdown",
   "metadata": {},
   "source": [
    "\\begin{equation*}\n",
    "   H_0:\\mbox{Tem poucas meninas na engenharia por motivos externos} \\rightarrow \\mu_B=\\mu_A \\rightarrow \\mu_B-\\mu_A=0\n",
    "\\end{equation*}   \n",
    "\\begin{equation*}\n",
    "   H_a:\\mbox{Tem poucas meninas na engenharia por motivos internos} \\rightarrow \\mu_B\\neq\\mu_A \\rightarrow \\mu_B-\\mu_A\\neq0\n",
    "\\end{equation*}\n"
   ]
  },
  {
   "cell_type": "markdown",
   "metadata": {},
   "source": [
    "Motivos externos: Mercado de trabalho, Salário, Vontade de outros\n",
    "    \n",
    "Motivos internos: Gosto por exatas/ curso"
   ]
  },
  {
   "cell_type": "markdown",
   "metadata": {},
   "source": [
    "Limpar o DataFrame e Renomear algumas colunas"
   ]
  },
  {
   "cell_type": "code",
   "execution_count": 35,
   "metadata": {},
   "outputs": [],
   "source": [
    "eng_insper = eng_insper.rename(columns={\"Qual seu nome completo?\": \"NOME\", \"Qual semestre?\": \"SEMESTRE\", \"Idade\": \"IDADE\", \"Qual engenharia?\": \"TIPO_ENG\", \"De onde você veio (cidade/estado)?\": \"ESTADO/CID\", \"Frequentou o Ensino Médio...\":\"TIPO_EM\", \"Qual o nome do seu colégio?\": \"NOME_EM\"})\n",
    "\n",
    "\n",
    "semestre=[]\n",
    "\n",
    "for k in eng_insper.SEMESTRE:\n",
    "    if k == \"2º Semestre\":\n",
    "        semestre.append(2)\n",
    "    elif k == \"3º Semestre\":\n",
    "        semestre.append(3)\n",
    "    elif k == \"4º Semstre\":\n",
    "        semestre.append(4)\n",
    "    elif k ==\"5º Semestre\":\n",
    "        semestre.append(5)\n",
    "    elif k ==\"6º semestre\":\n",
    "        semestre.append(6)\n",
    "    elif k == \"7º Semestre\":\n",
    "        semestre.append(7)\n",
    "    else:\n",
    "         semestre.append(8)\n",
    "            \n",
    "eng_insper.SEMESTRE = semestre\n",
    "\n",
    "\n",
    "eng_insper['Se \"Não\", qual?'] = eng_insper['Se \"Não\", qual?'].fillna('Insper')\n",
    "\n",
    "eng_insper['Se \"Sim\" na pergunta anterior,  quais familiares?'] = eng_insper['Se \"Sim\" na pergunta anterior,  quais familiares?'].fillna('Ninguém')"
   ]
  },
  {
   "cell_type": "markdown",
   "metadata": {},
   "source": [
    "## SEGUNDO SHEET: engenharia de outras faculdades"
   ]
  },
  {
   "cell_type": "markdown",
   "metadata": {},
   "source": [
    "Lendo arquivo Excel"
   ]
  },
  {
   "cell_type": "code",
   "execution_count": 36,
   "metadata": {},
   "outputs": [],
   "source": [
    "eng_geral = pd.read_excel('PESQUISA.xlsx', sheet_name = 1)\n"
   ]
  },
  {
   "cell_type": "markdown",
   "metadata": {},
   "source": [
    "Limpar o DataFrame e Renomear algumas colunas"
   ]
  },
  {
   "cell_type": "code",
   "execution_count": 37,
   "metadata": {},
   "outputs": [],
   "source": [
    "eng_geral = eng_geral.rename(columns={\"Qual seu nome completo?\": \"NOME\", \"Qual semestre?\": \"SEMESTRE\", \"Idade\": \"IDADE\", \"Qual engenharia?\": \"TIPO_ENG\", \"De onde você veio (cidade/estado)?\": \"ESTADO/CID\", \"Frequentou o Ensino Médio...\":\"TIPO_EM\", \"Qual o nome do seu colégio?\": \"NOME_EM\"})\n",
    "\n",
    "\n",
    "eng_geral['Se \"Sim\" na pergunta anterior,  quais familiares?'] = eng_geral['Se \"Sim\" na pergunta anterior,  quais familiares?'].fillna('Ninguém')\n",
    "\n",
    "\n",
    "eng_geral['Se \"Não\", qual?'] = eng_geral['Se \"Não\", qual?'].fillna('A atual')\n",
    "\n",
    "\n",
    "semestre=[]\n",
    "\n",
    "for k in eng_geral.SEMESTRE:\n",
    "    if k == \"2º Semestre\":\n",
    "        semestre.append(2)\n",
    "    elif k == \"3º Semestre\":\n",
    "        semestre.append(3)\n",
    "    elif k == \"4º Semstre\":\n",
    "        semestre.append(4)\n",
    "    elif k ==\"5º Semestre\":\n",
    "        semestre.append(5)\n",
    "    elif k ==\"6º semestre\":\n",
    "        semestre.append(6)\n",
    "    elif k == \"7º Semestre\":\n",
    "        semestre.append(7)\n",
    "    else:\n",
    "         semestre.append(8)\n",
    "            \n",
    "eng_geral.SEMESTRE = semestre"
   ]
  },
  {
   "cell_type": "markdown",
   "metadata": {},
   "source": [
    "## TERCEIRO SHEET: quem quer prestar engenharia"
   ]
  },
  {
   "cell_type": "markdown",
   "metadata": {},
   "source": [
    "Lendo arquivo Excel"
   ]
  },
  {
   "cell_type": "code",
   "execution_count": 38,
   "metadata": {},
   "outputs": [],
   "source": [
    "eng_prestar = pd.read_excel('PESQUISA.xlsx', sheet_name = 2)"
   ]
  },
  {
   "cell_type": "code",
   "execution_count": 39,
   "metadata": {},
   "outputs": [],
   "source": [
    "\n",
    "eng_prestar = eng_prestar[eng_prestar[\"Você pretende prestar Engenharia?\"]!= \"Não\"]\n",
    "eng_prestar = eng_prestar.rename(columns={\"Qual seu nome completo?\": \"NOME\", \"Você pretende prestar Engenharia?\": \"Irá prestar eng?\", \"Idade\": \"IDADE\", \"Se você está no Ensino Médio, qual seu tipo de escola?\": \"TIPO_Escola\",'Qual o nome do seu colégio?': 'Colégio','Qual engenharia você pretende fazer?':'TIPO_ENG', \"De onde você veio (cidade/estado)?\": \"ESTADO/CID\", \"Algum familiar trabalha na área de engenharia?\":\"Familiar na área?\", \"Qual o nome do seu colégio?\": \"NOME_EM\", 'Quais são os motivos da escolha da faculdade que você quer fazer?':'Motivos da Escolha da Faculdade' })\n"
   ]
  },
  {
   "cell_type": "markdown",
   "metadata": {},
   "source": [
    "## QUARTO SHEET: adm/econo insper\n"
   ]
  },
  {
   "cell_type": "markdown",
   "metadata": {},
   "source": [
    "Lendo arquivo Excel"
   ]
  },
  {
   "cell_type": "code",
   "execution_count": 40,
   "metadata": {},
   "outputs": [],
   "source": [
    "insper = pd.read_excel('PESQUISA.xlsx', sheet_name = 3)"
   ]
  },
  {
   "cell_type": "markdown",
   "metadata": {},
   "source": [
    "Limpar o DataFrame e Renomear algumas colunas"
   ]
  },
  {
   "cell_type": "code",
   "execution_count": 41,
   "metadata": {},
   "outputs": [],
   "source": [
    "insper['Se \"Não\", qual?'] = insper['Se \"Não\", qual?'].fillna('Insper')\n",
    "insper = insper.rename(columns={\"Qual seu nome completo?\": \"NOME\", \"Qual semestre?\": \"SEMESTRE\", \"Idade\": \"IDADE\", \"Qual curso?\": \"Curso\", \"De onde você veio (cidade/estado)?\": \"ESTADO/CID\", \"Frequentou o Ensino Médio...\":\"TIPO_EM\", \"Qual o nome do seu colégio?\": \"NOME_EM\", 'Algum familiar trabalha na área de adm e/ou econo?': 'Familiar na área?'})\n",
    "semestre=[]\n",
    "\n",
    "for k in insper.SEMESTRE:\n",
    "    if k == \"2º Semestre\":\n",
    "        semestre.append(2)\n",
    "    elif k == \"3º Semestre\":\n",
    "        semestre.append(3)\n",
    "    elif k == \"4º Semstre\":\n",
    "        semestre.append(4)\n",
    "    elif k ==\"5º Semestre\":\n",
    "        semestre.append(5)\n",
    "    elif k ==\"6º semestre\":\n",
    "        semestre.append(6)\n",
    "    elif k == \"7º Semestre\":\n",
    "        semestre.append(7)\n",
    "    else:\n",
    "         semestre.append(8)\n",
    "            \n",
    "insper.SEMESTRE = semestre\n"
   ]
  },
  {
   "cell_type": "code",
   "execution_count": null,
   "metadata": {},
   "outputs": [],
   "source": []
  }
 ],
 "metadata": {
  "kernelspec": {
   "display_name": "Python 3",
   "language": "python",
   "name": "python3"
  },
  "language_info": {
   "codemirror_mode": {
    "name": "ipython",
    "version": 3
   },
   "file_extension": ".py",
   "mimetype": "text/x-python",
   "name": "python",
   "nbconvert_exporter": "python",
   "pygments_lexer": "ipython3",
   "version": "3.6.5"
  }
 },
 "nbformat": 4,
 "nbformat_minor": 2
}
